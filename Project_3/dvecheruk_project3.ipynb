{
 "cells": [
  {
   "cell_type": "markdown",
   "metadata": {},
   "source": [
    "## CUNY MSDA Fall 2017 Semester\n",
    "### DATA 620\n",
    "### Project 3:  Name Gender Classifier\n",
    "By Dmitriy Vecheruk"
   ]
  },
  {
   "cell_type": "markdown",
   "metadata": {},
   "source": [
    "### Assignment\n",
    "*Using any of the three classifiers described in chapter 6 of Natural Language Processing with Python, and any features you can think of, build the best name gender classifier you can. Begin by splitting the Names Corpus into three subsets: 500 words for the test set, 500 words for the dev-test set, and the remaining 6900 words for the training set. Then, starting with the example name gender classifier, make incremental improvements. Use the dev-test set to check your progress. Once you are satisfied with your classifier, check its final performance on the test set. How does the performance on the test set compare to the performance on the dev-test set? Is this what you'd expect?*"
   ]
  },
  {
   "cell_type": "markdown",
   "metadata": {},
   "source": [
    "--- \n",
    "### Solution  \n",
    "  \n",
    "In this project, I will use Naive Bayes and Maximum Entropy classifiers with various features to provide predictions of gender for a English-language name. The dataset used in this project is a labelled corpus of male and female names from the NLTK package: `nltk.corpus.names`.  \n",
    "\n",
    "**Project structure**  \n",
    "  \n",
    "1) Data preparation: in this step the input data is inspected and cleaned, then a holdout set is separated from the training dataset   \n",
    "2) Initial feature generation and classifier training: the first feature extraction function is applied on the training data, and an initial Naive Bayes model is trained to generate the baseline for model accuracy  \n",
    "3) Generation of additional features: additional features are generated manually from the data, Naive Bayes classifiers are re-trained and compared using cross-validation  \n",
    "4) Application of a more complex model - Maximum Entropy on the best set of features and a test vs. the previous iterations  \n",
    "5) Final test of the best model on the holdout set\n",
    "  \n",
    "**Summary of the findings**  \n",
    "  \n",
    "1) The dataset had to be cleaned before processing, as it contained records of identical names assigned to both genders.  \n",
    "2) The most important features for the correct assignment of names are contained in the ending letters, e.g. names ending in \"-na\" are very likely to be female.  \n",
    "3) The Maximum Entropy classifier does not perform better than Naive Bayes on the selected set of features, and thus a simpler model was used in the final test.  \n",
    "4) The final accuracy achieved on the test set was **87.6%**."
   ]
  },
  {
   "cell_type": "markdown",
   "metadata": {},
   "source": [
    "### 1. Load and clean the data, prepare the training and test datasets"
   ]
  },
  {
   "cell_type": "code",
   "execution_count": 1,
   "metadata": {
    "collapsed": false
   },
   "outputs": [],
   "source": [
    "import nltk\n",
    "# Use nltk.download() if the corpus is not available:\n",
    "# nltk.download()"
   ]
  },
  {
   "cell_type": "code",
   "execution_count": 2,
   "metadata": {
    "collapsed": true
   },
   "outputs": [],
   "source": [
    "from nltk.corpus import names\n",
    "import random\n",
    "from nltk.classify import apply_features\n",
    "import matplotlib.pyplot as plt\n",
    "%matplotlib inline"
   ]
  },
  {
   "cell_type": "code",
   "execution_count": 3,
   "metadata": {
    "collapsed": false
   },
   "outputs": [],
   "source": [
    "names = ([(name, \"male\") for name in names.words(\"male.txt\")] + \n",
    "         [(name, \"female\") for name in names.words(\"female.txt\")])"
   ]
  },
  {
   "cell_type": "code",
   "execution_count": 152,
   "metadata": {
    "collapsed": true
   },
   "outputs": [],
   "source": [
    "a = nltk.FreqDist(names)"
   ]
  },
  {
   "cell_type": "code",
   "execution_count": 157,
   "metadata": {
    "collapsed": false
   },
   "outputs": [
    {
     "data": {
      "text/plain": [
       "[(u'Marietta', 'female'), (u'Marietta', 'male')]"
      ]
     },
     "execution_count": 157,
     "metadata": {},
     "output_type": "execute_result"
    }
   ],
   "source": [
    "[item for item in names if item[0]==\"Marietta\"]"
   ]
  },
  {
   "cell_type": "code",
   "execution_count": 4,
   "metadata": {
    "collapsed": false
   },
   "outputs": [
    {
     "name": "stdout",
     "output_type": "stream",
     "text": [
      "7944 37\n"
     ]
    }
   ],
   "source": [
    "print len(names), 100 * len([item for item in names if item[1] == \"male\"])/len(names)"
   ]
  },
  {
   "cell_type": "code",
   "execution_count": 158,
   "metadata": {
    "collapsed": false
   },
   "outputs": [
    {
     "data": {
      "text/plain": [
       "7579"
      ]
     },
     "execution_count": 158,
     "metadata": {},
     "output_type": "execute_result"
    }
   ],
   "source": [
    "# Check data for distinct names\n",
    "only_names = [item[0] for item in names]\n",
    "len(set(only_names))"
   ]
  },
  {
   "cell_type": "markdown",
   "metadata": {},
   "source": [
    "There are 7944 records in total, 37% are male names, and 63% are female names.\n",
    "However, there are only 7579 unique names in the dataset.\n",
    "Before proceeding, we need to clean the names occurring multiple times, as they do not add information, but may skew the classifier results.\n",
    "  \n"
   ]
  },
  {
   "cell_type": "code",
   "execution_count": 172,
   "metadata": {
    "collapsed": false
   },
   "outputs": [
    {
     "data": {
      "text/plain": [
       "[(2, u'Casey'),\n",
       " (2, u'Sandy'),\n",
       " (2, u'Dominique'),\n",
       " (2, u'Ginger'),\n",
       " (2, u'Willi'),\n",
       " (2, u'Chad'),\n",
       " (2, u'Tammie'),\n",
       " (2, u'Cammy'),\n",
       " (2, u'Maxie'),\n",
       " (2, u'Carroll'),\n",
       " (2, u'Cody'),\n",
       " (2, u'Holly'),\n",
       " (2, u'Theo'),\n",
       " (2, u'Lynn'),\n",
       " (2, u'Lindsey'),\n",
       " (2, u'Reggie'),\n",
       " (2, u'Courtney'),\n",
       " (2, u'Noel'),\n",
       " (2, u'Mickie'),\n",
       " (2, u'Abby'),\n",
       " (2, u'Alix'),\n",
       " (2, u'Valentine'),\n",
       " (2, u'Tony'),\n",
       " (2, u'Virgie'),\n",
       " (2, u'Trace'),\n",
       " (2, u'Tracy'),\n",
       " (2, u'Ikey'),\n",
       " (2, u'Darryl'),\n",
       " (2, u'Laurie'),\n",
       " (2, u'Hannibal'),\n",
       " (2, u'Timmy'),\n",
       " (2, u'Francis'),\n",
       " (2, u'Emmy'),\n",
       " (2, u'Abbey'),\n",
       " (2, u'Whitney'),\n",
       " (2, u'Patrice'),\n",
       " (2, u'Isadore'),\n",
       " (2, u'Quinn'),\n",
       " (2, u'Willy'),\n",
       " (2, u'Michal'),\n",
       " (2, u'Winnie'),\n",
       " (2, u'Freddie'),\n",
       " (2, u'Daniel'),\n",
       " (2, u'Judith'),\n",
       " (2, u'Perry'),\n",
       " (2, u'Ruby'),\n",
       " (2, u'Alfie'),\n",
       " (2, u'Cass'),\n",
       " (2, u'Sibyl'),\n",
       " (2, u'Ollie'),\n",
       " (2, u'Toby'),\n",
       " (2, u'Tobe'),\n",
       " (2, u'Pennie'),\n",
       " (2, u'Abbie'),\n",
       " (2, u'Nichole'),\n",
       " (2, u'Bryn'),\n",
       " (2, u'Dion'),\n",
       " (2, u'Sunny'),\n",
       " (2, u'Addie'),\n",
       " (2, u'Isa'),\n",
       " (2, u'Teddy'),\n",
       " (2, u'Cary'),\n",
       " (2, u'Michel'),\n",
       " (2, u'Vinnie'),\n",
       " (2, u'Brandy'),\n",
       " (2, u'Marlo'),\n",
       " (2, u'Andy'),\n",
       " (2, u'Frank'),\n",
       " (2, u'Shay'),\n",
       " (2, u'Bernie'),\n",
       " (2, u'Caryl'),\n",
       " (2, u'Britt'),\n",
       " (2, u'Hazel'),\n",
       " (2, u'Lonnie'),\n",
       " (2, u'Ronny'),\n",
       " (2, u'Elisha'),\n",
       " (2, u'Rickie'),\n",
       " (2, u'Lanny'),\n",
       " (2, u'Millicent'),\n",
       " (2, u'Shayne'),\n",
       " (2, u'Sam'),\n",
       " (2, u'Sal'),\n",
       " (2, u'Freddy'),\n",
       " (2, u'Patsy'),\n",
       " (2, u'Tabby'),\n",
       " (2, u'Brooks'),\n",
       " (2, u'Brooke'),\n",
       " (2, u'Jerry'),\n",
       " (2, u'Danny'),\n",
       " (2, u'Demetris'),\n",
       " (2, u'Julie'),\n",
       " (2, u'Shelley'),\n",
       " (2, u'Jesse'),\n",
       " (2, u'Georgia'),\n",
       " (2, u'Page'),\n",
       " (2, u'Tallie'),\n",
       " (2, u'Chrissy'),\n",
       " (2, u'Claude'),\n",
       " (2, u'Tracie'),\n",
       " (2, u'Merrill'),\n",
       " (2, u'Shea'),\n",
       " (2, u'Drew'),\n",
       " (2, u'Aubrey'),\n",
       " (2, u'Tracey'),\n",
       " (2, u'Barrie'),\n",
       " (2, u'Gene'),\n",
       " (2, u'Sayre'),\n",
       " (2, u'Christian'),\n",
       " (2, u'Luce'),\n",
       " (2, u'Mead'),\n",
       " (2, u'Kerry'),\n",
       " (2, u'Hillary'),\n",
       " (2, u'Shaine'),\n",
       " (2, u'Ike'),\n",
       " (2, u'Gay'),\n",
       " (2, u'Donnie'),\n",
       " (2, u'Winny'),\n",
       " (2, u'Lee'),\n",
       " (2, u'Jessie'),\n",
       " (2, u'Edie'),\n",
       " (2, u'Kellen'),\n",
       " (2, u'Kelley'),\n",
       " (2, u'Sonnie'),\n",
       " (2, u'George'),\n",
       " (2, u'Bert'),\n",
       " (2, u'Benny'),\n",
       " (2, u'Tammy'),\n",
       " (2, u'Gail'),\n",
       " (2, u'Martie'),\n",
       " (2, u'Jan'),\n",
       " (2, u'Kirby'),\n",
       " (2, u'Grace'),\n",
       " (2, u'Erin'),\n",
       " (2, u'Constantine'),\n",
       " (2, u'Torey'),\n",
       " (2, u'Lesley'),\n",
       " (2, u'Adrien'),\n",
       " (2, u'Carlin'),\n",
       " (2, u'Carlie'),\n",
       " (2, u'Tommie'),\n",
       " (2, u'Dorian'),\n",
       " (2, u'Simone'),\n",
       " (2, u'Blair'),\n",
       " (2, u'Cecil'),\n",
       " (2, u'Henrie'),\n",
       " (2, u'Ajay'),\n",
       " (2, u'Donny'),\n",
       " (2, u'Allie'),\n",
       " (2, u'Dennie'),\n",
       " (2, u'Darcy'),\n",
       " (2, u'Billy'),\n",
       " (2, u'Cris'),\n",
       " (2, u'Bill'),\n",
       " (2, u'Tommy'),\n",
       " (2, u'Adrian'),\n",
       " (2, u'Tate'),\n",
       " (2, u'Rikki'),\n",
       " (2, u'Gerry'),\n",
       " (2, u'Gerri'),\n",
       " (2, u'Timmie'),\n",
       " (2, u'Jaime'),\n",
       " (2, u'Pattie'),\n",
       " (2, u'Blake'),\n",
       " (2, u'Claire'),\n",
       " (2, u'Alexis'),\n",
       " (2, u'Joey'),\n",
       " (2, u'Nicky'),\n",
       " (2, u'Jerrie'),\n",
       " (2, u'Shane'),\n",
       " (2, u'Fran'),\n",
       " (2, u'Vale'),\n",
       " (2, u'Billie'),\n",
       " (2, u'Merry'),\n",
       " (2, u'Sonny'),\n",
       " (2, u'Randy'),\n",
       " (2, u'Jackie'),\n",
       " (2, u'Lou'),\n",
       " (2, u'Beau'),\n",
       " (2, u'Evelyn'),\n",
       " (2, u'Dionis'),\n",
       " (2, u'Bo'),\n",
       " (2, u'Connie'),\n",
       " (2, u'Tobie'),\n",
       " (2, u'Sasha'),\n",
       " (2, u'Morgan'),\n",
       " (2, u'Merle'),\n",
       " (2, u'Christie'),\n",
       " (2, u'Lin'),\n",
       " (2, u'Juanita'),\n",
       " (2, u'Meade'),\n",
       " (2, u'Ali'),\n",
       " (2, u'Matty'),\n",
       " (2, u'Randie'),\n",
       " (2, u'Brook'),\n",
       " (2, u'Bobby'),\n",
       " (2, u'Saundra'),\n",
       " (2, u'Maddie'),\n",
       " (2, u'Wallis'),\n",
       " (2, u'Devon'),\n",
       " (2, u'Loren'),\n",
       " (2, u'Daffy'),\n",
       " (2, u'Carey'),\n",
       " (2, u'Carmine'),\n",
       " (2, u'Fred'),\n",
       " (2, u'Sydney'),\n",
       " (2, u'Bennie'),\n",
       " (2, u'Nat'),\n",
       " (2, u'Michele'),\n",
       " (2, u'Hilary'),\n",
       " (2, u'Corey'),\n",
       " (2, u'Dallas'),\n",
       " (2, u'Niki'),\n",
       " (2, u'Vinny'),\n",
       " (2, u'Shawn'),\n",
       " (2, u'Jean'),\n",
       " (2, u'Franky'),\n",
       " (2, u'Andrea'),\n",
       " (2, u'Shelby'),\n",
       " (2, u'Ronnie'),\n",
       " (2, u'Gayle'),\n",
       " (2, u'Jermaine'),\n",
       " (2, u'Leslie'),\n",
       " (2, u'Isador'),\n",
       " (2, u'Kyle'),\n",
       " (2, u'Jude'),\n",
       " (2, u'Judy'),\n",
       " (2, u'Averil'),\n",
       " (2, u'Corrie'),\n",
       " (2, u'Shaun'),\n",
       " (2, u'Frankie'),\n",
       " (2, u'Barry'),\n",
       " (2, u'Angel'),\n",
       " (2, u'Felice'),\n",
       " (2, u'Rene'),\n",
       " (2, u'Denny'),\n",
       " (2, u'Eddie'),\n",
       " (2, u'Van'),\n",
       " (2, u'Val'),\n",
       " (2, u'Patty'),\n",
       " (2, u'Clare'),\n",
       " (2, u'Devin'),\n",
       " (2, u'Wally'),\n",
       " (2, u'Cory'),\n",
       " (2, u'Muffin'),\n",
       " (2, u'Stacy'),\n",
       " (2, u'Marietta'),\n",
       " (2, u'Kit'),\n",
       " (2, u'Kim'),\n",
       " (2, u'Pooh'),\n",
       " (2, u'Marion'),\n",
       " (2, u'Terri'),\n",
       " (2, u'Terry'),\n",
       " (2, u'Dana'),\n",
       " (2, u'Rory'),\n",
       " (2, u'Angie'),\n",
       " (2, u'Ira'),\n",
       " (2, u'Harley'),\n",
       " (2, u'Brett'),\n",
       " (2, u'Glenn'),\n",
       " (2, u'Lindy'),\n",
       " (2, u'Max'),\n",
       " (2, u'Mel'),\n",
       " (2, u'Wallie'),\n",
       " (2, u'Marty'),\n",
       " (2, u'Dale'),\n",
       " (2, u'Allyn'),\n",
       " (2, u'Leigh'),\n",
       " (2, u'Kris'),\n",
       " (2, u'Robin'),\n",
       " (2, u'Sammy'),\n",
       " (2, u'Daryl'),\n",
       " (2, u'Pat'),\n",
       " (2, u'Robbie'),\n",
       " (2, u'Morlee'),\n",
       " (2, u'Regan'),\n",
       " (2, u'Tally'),\n",
       " (2, u'Christy'),\n",
       " (2, u'Gill'),\n",
       " (2, u'Micky'),\n",
       " (2, u'Alex'),\n",
       " (2, u'Gale'),\n",
       " (2, u'Del'),\n",
       " (2, u'Nickie'),\n",
       " (2, u'Maddy'),\n",
       " (2, u'Eddy'),\n",
       " (2, u'Clemmie'),\n",
       " (2, u'Clair'),\n",
       " (2, u'Dell'),\n",
       " (2, u'Jordan'),\n",
       " (2, u'Gretchen'),\n",
       " (2, u'Gabriell'),\n",
       " (2, u'Kelsey'),\n",
       " (2, u'Dory'),\n",
       " (2, u'Vin'),\n",
       " (2, u'Geri'),\n",
       " (2, u'Paige'),\n",
       " (2, u'Leland'),\n",
       " (2, u'Andie'),\n",
       " (2, u'Dannie'),\n",
       " (2, u'Glen'),\n",
       " (2, u'Pen'),\n",
       " (2, u'Karel'),\n",
       " (2, u'Bertie'),\n",
       " (2, u'Gabriel'),\n",
       " (2, u'Lyn'),\n",
       " (2, u'Scotty'),\n",
       " (2, u'Chris'),\n",
       " (2, u'Meryl'),\n",
       " (2, u'Haleigh'),\n",
       " (2, u'Germaine'),\n",
       " (2, u'Esme'),\n",
       " (2, u'Randi'),\n",
       " (2, u'Rey'),\n",
       " (2, u'Ariel'),\n",
       " (2, u'Lorrie'),\n",
       " (2, u'Jere'),\n",
       " (2, u'Kelly'),\n",
       " (2, u'Phil'),\n",
       " (2, u'Lauren'),\n",
       " (2, u'Jodie'),\n",
       " (2, u'Wynn'),\n",
       " (2, u'Teddie'),\n",
       " (2, u'Jamie'),\n",
       " (2, u'Haley'),\n",
       " (2, u'Jess'),\n",
       " (2, u'Clem'),\n",
       " (2, u'Sean'),\n",
       " (2, u'Nikki'),\n",
       " (2, u'Ray'),\n",
       " (2, u'Sascha'),\n",
       " (2, u'Deane'),\n",
       " (2, u'Justin'),\n",
       " (2, u'Maurise'),\n",
       " (2, u'Heath'),\n",
       " (2, u'Augustine'),\n",
       " (2, u'Jo'),\n",
       " (2, u'Willie'),\n",
       " (2, u'Shannon'),\n",
       " (2, u'Tim'),\n",
       " (2, u'Tabbie'),\n",
       " (2, u'Kip'),\n",
       " (2, u'Austin'),\n",
       " (2, u'Darby'),\n",
       " (2, u'Lind'),\n",
       " (2, u'Lorne'),\n",
       " (2, u'Lane'),\n",
       " (2, u'Gus'),\n",
       " (2, u'Shell'),\n",
       " (2, u'Ashley'),\n",
       " (2, u'Cat'),\n",
       " (2, u'Cam'),\n",
       " (2, u'Cal'),\n",
       " (2, u'Mattie'),\n",
       " (2, u'Meredith'),\n",
       " (2, u'Jodi'),\n",
       " (2, u'Jody'),\n",
       " (2, u'Lindsay'),\n",
       " (2, u'Penny'),\n",
       " (2, u'Dani'),\n",
       " (2, u'Georgie'),\n",
       " (2, u'Bobbie'),\n",
       " (2, u'Ted'),\n",
       " (2, u'Ricky'),\n",
       " (2, u'Ricki'),\n",
       " (2, u'Quentin')]"
      ]
     },
     "execution_count": 172,
     "metadata": {},
     "output_type": "execute_result"
    }
   ],
   "source": [
    "fdist = nltk.FreqDist(only_names)\n",
    "duplicates = [(v,k) for k,v in fdist.iteritems() if v >1]\n",
    "duplicates"
   ]
  },
  {
   "cell_type": "code",
   "execution_count": 173,
   "metadata": {
    "collapsed": false
   },
   "outputs": [
    {
     "data": {
      "text/plain": [
       "[(u'Sandy', 'female'),\n",
       " (u'Casey', 'male'),\n",
       " (u'Sandy', 'male'),\n",
       " (u'Casey', 'female')]"
      ]
     },
     "execution_count": 173,
     "metadata": {},
     "output_type": "execute_result"
    }
   ],
   "source": [
    "[item for item in names if item[0] in [\"Casey\",\"Sandy\"]]"
   ]
  },
  {
   "cell_type": "markdown",
   "metadata": {},
   "source": [
    "We can see that all of the duplicate names appear twice, and appear to have both gender labels assigned to them.\n",
    "This means that the information contained in these names *cannot be used to correctly classify the gender*.\n",
    "These records will be excluded before any modeling."
   ]
  },
  {
   "cell_type": "code",
   "execution_count": 174,
   "metadata": {
    "collapsed": false
   },
   "outputs": [
    {
     "data": {
      "text/plain": [
       "7214"
      ]
     },
     "execution_count": 174,
     "metadata": {},
     "output_type": "execute_result"
    }
   ],
   "source": [
    "# Remove the duplicates\n",
    "dup_names = [item[1] for item in duplicates]\n",
    "input_names = [item for item in names if not item[0] in dup_names]\n",
    "len(input_names)"
   ]
  },
  {
   "cell_type": "markdown",
   "metadata": {},
   "source": [
    "We shall shuffle the data and split it into 3 sets:\n",
    "  \n",
    "1) Hold-out test set of size 500 used only for the evaluation of the final model   \n",
    "2) Training data consisting of:  \n",
    "      2a) Initial dev-test set of size 500 used to evaluate the first iterations of the model  \n",
    "      2b) Initial training set comprizing the remainder of the data\n",
    "  \n",
    "With each iteration of the model, the training set will be reshuffled and split again into dev-test and training data"
   ]
  },
  {
   "cell_type": "code",
   "execution_count": 205,
   "metadata": {
    "collapsed": false
   },
   "outputs": [],
   "source": [
    "def split_train_test(x, n_test):\n",
    "    \"\"\"Randomly splits a list into two lists with n_test records in one, \n",
    "    and the remainder in the other one.\"\"\"\n",
    "    \n",
    "    random.shuffle(x)\n",
    "    \n",
    "    return x[:n_test],x[n_test:]\n",
    "\n"
   ]
  },
  {
   "cell_type": "code",
   "execution_count": 206,
   "metadata": {
    "collapsed": false
   },
   "outputs": [],
   "source": [
    "test_set, training_data = split_train_test(input_names, 500) "
   ]
  },
  {
   "cell_type": "code",
   "execution_count": 207,
   "metadata": {
    "collapsed": false
   },
   "outputs": [
    {
     "name": "stdout",
     "output_type": "stream",
     "text": [
      "500 36\n"
     ]
    }
   ],
   "source": [
    "print len(test_set), 100 * len([item for item in test_set if item[1] == \"male\"])/len(test_set)"
   ]
  },
  {
   "cell_type": "markdown",
   "metadata": {},
   "source": [
    "We see that the proportion of male names is preserved correctly in the holdout data.  \n",
    "\n",
    "Now we can get our initial training and dev-test datasets from the training data:"
   ]
  },
  {
   "cell_type": "code",
   "execution_count": 208,
   "metadata": {
    "collapsed": true
   },
   "outputs": [],
   "source": [
    "dev_test, train_set = split_train_test(training_data, 500) "
   ]
  },
  {
   "cell_type": "markdown",
   "metadata": {},
   "source": [
    "### 2. Train and evaluate the initial Naive Bayes classifier"
   ]
  },
  {
   "cell_type": "markdown",
   "metadata": {},
   "source": [
    "#### Prepare the initial features  \n",
    "  \n",
    "Initially, the following features will be used to build an initial Naive Bayes classifier and inspect its errors.\n",
    "  \n",
    "1) First letter of the name  \n",
    "2) Last letter of the name  \n",
    "3) Length of the name"
   ]
  },
  {
   "cell_type": "code",
   "execution_count": 209,
   "metadata": {
    "collapsed": true
   },
   "outputs": [],
   "source": [
    "def gender_features_0(name): \n",
    "    features = {}\n",
    "    features[\"firstletter\"] = name[0].lower() \n",
    "    features[\"lastletter\"] = name[-1].lower()\n",
    "    features[\"length\"] = len([c for c in name])\n",
    "    \n",
    "    return features"
   ]
  },
  {
   "cell_type": "code",
   "execution_count": 210,
   "metadata": {
    "collapsed": false
   },
   "outputs": [
    {
     "data": {
      "text/plain": [
       "({'firstletter': 'j', 'lastletter': 'n', 'length': 4},\n",
       " {'firstletter': 'a', 'lastletter': 'a', 'length': 6})"
      ]
     },
     "execution_count": 210,
     "metadata": {},
     "output_type": "execute_result"
    }
   ],
   "source": [
    "# Example\n",
    "gender_features_0(\"John\"), gender_features_0(\"Amanda\")"
   ]
  },
  {
   "cell_type": "markdown",
   "metadata": {},
   "source": [
    "#### Train and evaluate the initial classifier\n",
    "  \n",
    "In this section we setup the set of functions to train and evaluate Naive Bayes classifiers using different features as inputs and cross-validated accuracy as an output metric. In this way, we can quickly swap the feature generation functions and re-evaluate the classifier performance to find optimal features."
   ]
  },
  {
   "cell_type": "code",
   "execution_count": 211,
   "metadata": {
    "collapsed": false
   },
   "outputs": [],
   "source": [
    "def evaluate_model(dev_test, featurizer, classifier):\n",
    "    \"\"\"\n",
    "    Returns the accuracy, a contingency table, and the most informative features\n",
    "    of an NLTK classifier.\n",
    "    Based on the code from: Natural Language Processing with Python\n",
    "    by Steven Bird, Ewan Klein, and Edward Loper. 2009, O'Reilly Media\n",
    "    \"\"\"\n",
    "    # Generate test features\n",
    "    dev_test_ft = apply_features(featurizer, dev_test)\n",
    "\n",
    "    # Score the model on the test features\n",
    "    model_out = [classifier.classify(item[0]) for item in dev_test_ft]\n",
    "\n",
    "    # Evaluate the accuracy\n",
    "    accr = nltk.classify.accuracy(classifier, dev_test_ft)\n",
    "    \n",
    "\n",
    "    # Confusion matrix\n",
    "    true_label = [item[1] for item in dev_test_ft]\n",
    "    \n",
    "    \n",
    "    # Errors: Compare the true label with the classifier output\n",
    "    errors = []\n",
    "    for item in zip(dev_test,model_out):\n",
    "        if item[0][1] != item[1]:\n",
    "            errors.append( (item[0][1], item[1], item[0][0]))\n",
    "    \n",
    "    return dict(model_out = model_out,true_label=true_label,accr=accr,errors=errors)\n",
    "        \n",
    "def print_eval_results(classifier, eval_output,err_cnt):\n",
    "    \"Prints model evaluation output\"\n",
    "    \n",
    "    \n",
    "    print (\"Accuracy on the test set: {}% \\n\".format(eval_output[\"accr\"]*100))\n",
    "    # Main features \n",
    "    classifier.show_most_informative_features(10)\n",
    "    \n",
    "    print \"\\n Confusion Matrix: \\n\"\n",
    "    print nltk.ConfusionMatrix(eval_output[\"true_label\"],eval_output[\"model_out\"])\n",
    "    print \"\\n Errors: \\n\", \n",
    "    for (tag, guess, name) in eval_output[\"errors\"][:err_cnt]: \n",
    "        print 'correct=%-8s guess=%-8s name=%-30s' %(tag, guess, name)\n",
    "\n",
    "def iterate_nb_validation(data, test_size, featurizer,n_iter):\n",
    "    \n",
    "    accuracy_out = []\n",
    "    \n",
    "    for item in range(0,n_iter):\n",
    "    \n",
    "        # Split dataset\n",
    "        dev_test, train_set = split_train_test(data, test_size) \n",
    "\n",
    "        # Generate training features\n",
    "        train_ft = apply_features(featurizer, train_set)\n",
    "    \n",
    "        # Apply Naive Bayes classifier\n",
    "        classifier = nltk.NaiveBayesClassifier.train(train_ft)\n",
    "        eval_result = evaluate_model(dev_test=dev_test, featurizer=featurizer,classifier=classifier)\n",
    "        \n",
    "        accuracy_out.append(eval_result[\"accr\"])\n",
    "        print \".\",\n",
    "    \n",
    "    return accuracy_out"
   ]
  },
  {
   "cell_type": "code",
   "execution_count": 212,
   "metadata": {
    "collapsed": false
   },
   "outputs": [
    {
     "name": "stdout",
     "output_type": "stream",
     "text": [
      "Accuracy on the test set: 79.4% \n",
      "\n",
      "Most Informative Features\n",
      "              lastletter = u'a'           female : male   =     53.9 : 1.0\n",
      "              lastletter = u'p'             male : female =     19.9 : 1.0\n",
      "              lastletter = u'f'             male : female =     17.0 : 1.0\n",
      "              lastletter = u'm'             male : female =     13.9 : 1.0\n",
      "              lastletter = u'd'             male : female =     11.8 : 1.0\n",
      "              lastletter = u'o'             male : female =      9.7 : 1.0\n",
      "              lastletter = u'v'             male : female =      9.0 : 1.0\n",
      "              lastletter = u'r'             male : female =      8.0 : 1.0\n",
      "              lastletter = u'w'             male : female =      6.2 : 1.0\n",
      "              lastletter = u'g'             male : female =      5.4 : 1.0\n",
      "\n",
      " Confusion Matrix: \n",
      "\n",
      "       |   f     |\n",
      "       |   e     |\n",
      "       |   m   m |\n",
      "       |   a   a |\n",
      "       |   l   l |\n",
      "       |   e   e |\n",
      "-------+---------+\n",
      "female |<276> 38 |\n",
      "  male |  65<121>|\n",
      "-------+---------+\n",
      "(row = reference; col = test)\n",
      "\n",
      "\n",
      " Errors: \n",
      "correct=male     guess=female   name=Maximilien                    \n",
      "correct=male     guess=female   name=Locke                         \n",
      "correct=female   guess=male     name=Esther                        \n",
      "correct=male     guess=female   name=Allah                         \n",
      "correct=female   guess=male     name=Philis                        \n",
      "correct=female   guess=male     name=Koo                           \n",
      "correct=male     guess=female   name=Antin                         \n",
      "correct=male     guess=female   name=Luigi                         \n",
      "correct=male     guess=female   name=Rudie                         \n",
      "correct=female   guess=male     name=Tish                          \n"
     ]
    }
   ],
   "source": [
    "# Split dataset\n",
    "dev_test, train_set = split_train_test(training_data, 500) \n",
    "\n",
    "# Generate training features\n",
    "train_ft = apply_features(gender_features_0, train_set)\n",
    "\n",
    "# Apply Naive Bayes classifier\n",
    "classifier_0 = nltk.NaiveBayesClassifier.train(train_ft)\n",
    "\n",
    "# Evaluate the features and classifier\n",
    "eval_0 = evaluate_model(dev_test=dev_test, featurizer=gender_features_0,classifier=classifier_0)\n",
    "print_eval_results(classifier_0,eval_0,10)"
   ]
  },
  {
   "cell_type": "markdown",
   "metadata": {},
   "source": [
    "We see that in this single validation fold the initial classifier **correctly assigns over 75% of labels**, which is significantly better than using the default split in the data (e.g. simply assigning all data to the class \"female\" would yield 63% accuracy).\n",
    "  \n",
    "Based on the Bayesian likelihood ratios, last letter seems to be the most decisive factor for the \"male\" or \"female\" label.\n",
    "\n",
    "Using a simple cross-validation approach by iteratively randomly splitting the training data into training and dev_test sets we can see how stable these results are in terms of the prediction accuracy: "
   ]
  },
  {
   "cell_type": "code",
   "execution_count": 213,
   "metadata": {
    "collapsed": false
   },
   "outputs": [
    {
     "name": "stdout",
     "output_type": "stream",
     "text": [
      ". . . . . . . . . . . . . . . . . . . . . . . . . . . . . .\n"
     ]
    }
   ],
   "source": [
    "nb_gf0 = iterate_nb_validation(data=training_data, test_size=500, \n",
    "                               featurizer=gender_features_0,n_iter=30)"
   ]
  },
  {
   "cell_type": "code",
   "execution_count": 214,
   "metadata": {
    "collapsed": false
   },
   "outputs": [
    {
     "data": {
      "image/png": "[encoded data removed]",
      "text/plain": [
       "<matplotlib.figure.Figure at 0x11be11390>"
      ]
     },
     "metadata": {},
     "output_type": "display_data"
    }
   ],
   "source": [
    "plt.figure(figsize=(6,3))\n",
    "plt.boxplot(nb_gf0,1,\"D\",0)\n",
    "plt.title(\"Accuracy after 30 CV iterations: Naive Bayes + gender_features_0\")\n",
    "plt.show()"
   ]
  },
  {
   "cell_type": "markdown",
   "metadata": {},
   "source": [
    "On average, the initial classifier will correctly classify **about 80%** of names, and also that it's performance is  variable between 77% and 83% in 30 training iterations."
   ]
  },
  {
   "cell_type": "markdown",
   "metadata": {},
   "source": [
    "### 3. Engineering additional features\n",
    "  \n",
    "We can now engineer additional features and compare the accuracy with the above baseline model.  \n",
    "We will try:  \n",
    "  \n",
    "* adding a two-letter prefix and suffix as features (as we saw that the last letter of the word seems to carry more information)  \n",
    "\n",
    "In addition, as there variations in the way the names are spelled vs. pronounced, adding some form of phonetical features should be added as well. We will try: \n",
    "   \n",
    "* counting the occurrences of similar-sounding consonants (based on the [Soundex](https://en.wikipedia.org/wiki/Soundex?oldformat=true#American_Soundex) groups) \n",
    "  "
   ]
  },
  {
   "cell_type": "markdown",
   "metadata": {},
   "source": [
    "#### Adding Prefix and Suffix features"
   ]
  },
  {
   "cell_type": "code",
   "execution_count": 215,
   "metadata": {
    "collapsed": true
   },
   "outputs": [],
   "source": [
    "def gender_features_1(name): \n",
    "    features = {}\n",
    "    features[\"firstletter\"] = name[0].lower() \n",
    "    features[\"lastletter\"] = name[-1].lower()\n",
    "    features[\"suffix\"] = name[-2:].lower()\n",
    "    features[\"prefix\"] = name[:2].lower()\n",
    "    features[\"length\"] = len([c for c in name])\n",
    "    \n",
    "    return features"
   ]
  },
  {
   "cell_type": "code",
   "execution_count": 216,
   "metadata": {
    "collapsed": false
   },
   "outputs": [
    {
     "data": {
      "text/plain": [
       "({'firstletter': 'j',\n",
       "  'lastletter': 'n',\n",
       "  'length': 4,\n",
       "  'prefix': 'jo',\n",
       "  'suffix': 'hn'},\n",
       " {'firstletter': 'a',\n",
       "  'lastletter': 'a',\n",
       "  'length': 6,\n",
       "  'prefix': 'am',\n",
       "  'suffix': 'da'})"
      ]
     },
     "execution_count": 216,
     "metadata": {},
     "output_type": "execute_result"
    }
   ],
   "source": [
    "# Example\n",
    "gender_features_1(\"John\"), gender_features_1(\"Amanda\")"
   ]
  },
  {
   "cell_type": "code",
   "execution_count": 217,
   "metadata": {
    "collapsed": false
   },
   "outputs": [
    {
     "name": "stdout",
     "output_type": "stream",
     "text": [
      ". . . . . . . . . . . . . . . . . . . . . . . . . . . . . .\n"
     ]
    }
   ],
   "source": [
    "# Evaluate the features and classifier\n",
    "nb_gf1 = iterate_nb_validation(data=training_data, test_size=500, featurizer=gender_features_1,n_iter=30)"
   ]
  },
  {
   "cell_type": "code",
   "execution_count": 218,
   "metadata": {
    "collapsed": false
   },
   "outputs": [
    {
     "data": {
      "image/png": "[encoded data removed]",
      "text/plain": [
       "<matplotlib.figure.Figure at 0x11bdf9e10>"
      ]
     },
     "metadata": {},
     "output_type": "display_data"
    }
   ],
   "source": [
    "data = [nb_gf0, nb_gf1]\n",
    "labels=[\"nb_gf0\", \"nb_gf1\"]\n",
    "plt.figure(figsize=(8,4))\n",
    "plt.boxplot(data,1,\"D\",0,labels=labels)\n",
    "plt.title(\"Accuracy after 30 CV iterations: Naive Bayes model + Multiple Feature Sets\")\n",
    "plt.show()"
   ]
  },
  {
   "cell_type": "markdown",
   "metadata": {},
   "source": [
    "We can see that on average, the approach with added prefixes and suffixes perfoms better than the original approach, and classifies **about 84%** of names correctly.\n",
    "  \n",
    "We can inspect a random training and validation fold:"
   ]
  },
  {
   "cell_type": "code",
   "execution_count": 219,
   "metadata": {
    "collapsed": true
   },
   "outputs": [],
   "source": [
    "# Split dataset\n",
    "dev_test, train_set = split_train_test(training_data, 500) \n",
    "\n",
    "# Generate training features\n",
    "train_ft = apply_features(gender_features_1, train_set)"
   ]
  },
  {
   "cell_type": "code",
   "execution_count": 220,
   "metadata": {
    "collapsed": false
   },
   "outputs": [
    {
     "name": "stdout",
     "output_type": "stream",
     "text": [
      "Accuracy on the test set: 83.2% \n",
      "\n",
      "Most Informative Features\n",
      "                  suffix = u'na'          female : male   =    147.6 : 1.0\n",
      "                  suffix = u'la'          female : male   =     64.6 : 1.0\n",
      "                  suffix = u'rt'            male : female =     55.7 : 1.0\n",
      "                  suffix = u'ra'          female : male   =     50.6 : 1.0\n",
      "                  suffix = u'ia'          female : male   =     47.9 : 1.0\n",
      "              lastletter = u'a'           female : male   =     47.8 : 1.0\n",
      "                  suffix = u'us'            male : female =     40.5 : 1.0\n",
      "                  suffix = u'ta'          female : male   =     36.7 : 1.0\n",
      "                  suffix = u'ld'            male : female =     35.8 : 1.0\n",
      "                  suffix = u'rd'            male : female =     24.4 : 1.0\n",
      "\n",
      " Confusion Matrix: \n",
      "\n",
      "       |   f     |\n",
      "       |   e     |\n",
      "       |   m   m |\n",
      "       |   a   a |\n",
      "       |   l   l |\n",
      "       |   e   e |\n",
      "-------+---------+\n",
      "female |<281> 39 |\n",
      "  male |  45<135>|\n",
      "-------+---------+\n",
      "(row = reference; col = test)\n",
      "\n",
      "\n",
      " Errors: \n",
      "correct=female   guess=male     name=Harriot                       \n",
      "correct=male     guess=female   name=Huntlee                       \n",
      "correct=female   guess=male     name=Hatty                         \n",
      "correct=male     guess=female   name=Alexei                        \n",
      "correct=male     guess=female   name=Giovanni                      \n",
      "correct=female   guess=male     name=Min                           \n",
      "correct=male     guess=female   name=Chancey                       \n",
      "correct=male     guess=female   name=Lincoln                       \n",
      "correct=male     guess=female   name=Gordie                        \n",
      "correct=female   guess=male     name=Patience                      \n"
     ]
    }
   ],
   "source": [
    "# Apply Naive Bayes classifier\n",
    "classifier_1 = nltk.NaiveBayesClassifier.train(train_ft)\n",
    "# Evaluate the features and classifier\n",
    "eval_1 = evaluate_model(dev_test=dev_test, featurizer=gender_features_1,classifier=classifier_1)\n",
    "print_eval_results(classifier_1,eval_1,10)"
   ]
  },
  {
   "cell_type": "markdown",
   "metadata": {},
   "source": [
    "Findings: \n",
    "  \n",
    "1) The classifier seems to perform better for male names than the original one.  \n",
    "2) The suffixes \"na\", \"la\", \"ia\" are very strong predictors of a female name, as well as \"a\" as the last letter (so probably largely this is already captured by the last letter feature)  \n",
    "3) The suffixes \"ld\" and \"rt\" are important for male names"
   ]
  },
  {
   "cell_type": "markdown",
   "metadata": {},
   "source": [
    "#### Adding Soundex consonant counts\n",
    "\n",
    "We add the counts of similar-sounding consonants based on Soundex"
   ]
  },
  {
   "cell_type": "code",
   "execution_count": 221,
   "metadata": {
    "collapsed": true
   },
   "outputs": [],
   "source": [
    "def gender_features_2(name): \n",
    "    features = {}\n",
    "    features[\"firstletter\"] = name[0].lower() \n",
    "    features[\"lastletter\"] = name[-1].lower()\n",
    "    features[\"length\"] = len([c for c in name])\n",
    "    features[\"sdx_1\"] = len([c for c in name if c in [\"b\", \"f\", \"p\", \"v\"]])\n",
    "    features[\"sdx_2\"] = len([c for c in name if c in [\"c\", \"g\", \"j\", \"k\", \"q\", \"s\", \"x\", \"z\"]])\n",
    "    features[\"sdx_3\"] = len([c for c in name if c in [\"d\", \"t\"]])\n",
    "    features[\"sdx_4\"] = len([c for c in name if c in [\"l\"]])\n",
    "    features[\"sdx_5\"] = len([c for c in name if c in [\"m\", \"n\"]])\n",
    "    features[\"sdx_6\"] = len([c for c in name if c in [\"r\"]])\n",
    "    features[\"sdx_6\"] = len([c for c in name if c in [\"r\"]])\n",
    "    \n",
    "    return features"
   ]
  },
  {
   "cell_type": "code",
   "execution_count": 222,
   "metadata": {
    "collapsed": false
   },
   "outputs": [
    {
     "data": {
      "text/plain": [
       "{'firstletter': 'r',\n",
       " 'lastletter': 'e',\n",
       " 'length': 6,\n",
       " 'sdx_1': 0,\n",
       " 'sdx_2': 0,\n",
       " 'sdx_3': 2,\n",
       " 'sdx_4': 0,\n",
       " 'sdx_5': 0,\n",
       " 'sdx_6': 0}"
      ]
     },
     "execution_count": 222,
     "metadata": {},
     "output_type": "execute_result"
    }
   ],
   "source": [
    "# Example\n",
    "gender_features_2(\"Ruddie\")"
   ]
  },
  {
   "cell_type": "code",
   "execution_count": 223,
   "metadata": {
    "collapsed": false
   },
   "outputs": [
    {
     "name": "stdout",
     "output_type": "stream",
     "text": [
      ". . . . . . . . . . . . . . . . . . . . . . . . . . . . . .\n"
     ]
    }
   ],
   "source": [
    "# Evaluate the features and classifier\n",
    "nb_gf2 = iterate_nb_validation(data=training_data, test_size=500, featurizer=gender_features_2,n_iter=30)"
   ]
  },
  {
   "cell_type": "code",
   "execution_count": 224,
   "metadata": {
    "collapsed": false
   },
   "outputs": [
    {
     "data": {
      "image/png": "[encoded data removed]",
      "text/plain": [
       "<matplotlib.figure.Figure at 0x11ba60510>"
      ]
     },
     "metadata": {},
     "output_type": "display_data"
    }
   ],
   "source": [
    "data = [nb_gf0, nb_gf1, nb_gf2]\n",
    "labels=[\"nb_gf0\", \"nb_gf1\",\"nb_gf2\"]\n",
    "plt.figure(figsize=(8,4))\n",
    "plt.boxplot(data,1,\"D\",0,labels=labels)\n",
    "plt.title(\"Accuracy after 30 CV iterations: Naive Bayes model + Multiple Feature Sets\")\n",
    "plt.show()"
   ]
  },
  {
   "cell_type": "markdown",
   "metadata": {},
   "source": [
    "We see that the use of similar-sounding consonants does not improve performance above the original version.\n",
    "\n",
    "We can try expanding the prefix-suffix approach further from the end of the word to see if additional combinations provide a better prediction, or if we will already see worse performance due to overfitting."
   ]
  },
  {
   "cell_type": "code",
   "execution_count": 225,
   "metadata": {
    "collapsed": true
   },
   "outputs": [],
   "source": [
    "def gender_features_3(name): \n",
    "    features = {}\n",
    "    features[\"firstletter\"] = name[0].lower() \n",
    "    features[\"lastletter\"] = name[-1].lower()\n",
    "    features[\"suffix_2\"] = name[-2:].lower()\n",
    "    features[\"suffix_3\"] = name[-3:].lower()\n",
    "    features[\"prefix_2\"] = name[:2].lower()\n",
    "    features[\"prefix_3\"] = name[:3].lower()\n",
    "    features[\"length\"] = len([c for c in name])\n",
    "    \n",
    "    return features"
   ]
  },
  {
   "cell_type": "code",
   "execution_count": 226,
   "metadata": {
    "collapsed": false
   },
   "outputs": [
    {
     "name": "stdout",
     "output_type": "stream",
     "text": [
      ". . . . . . . . . . . . . . . . . . . . . . . . . . . . . .\n"
     ]
    }
   ],
   "source": [
    "# Evaluate the features and classifier\n",
    "nb_gf3 = iterate_nb_validation(data=training_data, test_size=500, featurizer=gender_features_3,n_iter=30)"
   ]
  },
  {
   "cell_type": "code",
   "execution_count": 227,
   "metadata": {
    "collapsed": false
   },
   "outputs": [
    {
     "data": {
      "image/png": "[encoded data removed]",
      "text/plain": [
       "<matplotlib.figure.Figure at 0x11b9fd4d0>"
      ]
     },
     "metadata": {},
     "output_type": "display_data"
    }
   ],
   "source": [
    "data = [nb_gf0, nb_gf1, nb_gf2, nb_gf3]\n",
    "labels=[\"nb_gf0\", \"nb_gf1\",\"nb_gf2\",\"nb_gf3\"]\n",
    "plt.figure(figsize=(8,4))\n",
    "plt.boxplot(data,1,\"D\",0,labels=labels)\n",
    "plt.title(\"Accuracy after 30 CV iterations: Naive Bayes model + Multiple Feature Sets\")\n",
    "plt.show()"
   ]
  },
  {
   "cell_type": "markdown",
   "metadata": {},
   "source": [
    "We can see a significant improvement over the previous versions to around **88%** accuracy, and a smaller variance in the accuracy.    \n",
    "Finally, we can try a different classifier algorithm that accounts for possible interactions between the features: a Maximum Entropy Classifier."
   ]
  },
  {
   "cell_type": "markdown",
   "metadata": {},
   "source": [
    "---\n",
    "### 4. Using another classifier: Maximum Entropy"
   ]
  },
  {
   "cell_type": "markdown",
   "metadata": {},
   "source": [
    "We apply a different classifier with the best feature set from the approach above. As it takes significantly longer to train ME classifiers, we shall run just 10 cross-validation iterations."
   ]
  },
  {
   "cell_type": "code",
   "execution_count": 200,
   "metadata": {
    "collapsed": true
   },
   "outputs": [],
   "source": [
    "from nltk.classify import MaxentClassifier\n",
    "\n",
    "def iterate_me_validation(data, test_size, featurizer,n_iter):\n",
    "    \n",
    "    accuracy_out = []\n",
    "    \n",
    "    for item in range(0,n_iter):\n",
    "    \n",
    "        # Split dataset\n",
    "        dev_test, train_set = split_train_test(data, test_size) \n",
    "\n",
    "        # Generate training features\n",
    "        train_ft = apply_features(featurizer, train_set)\n",
    "    \n",
    "        # Apply Naive Bayes classifier\n",
    "        algorithm = nltk.classify.MaxentClassifier.ALGORITHMS[1]\n",
    "        classifier = nltk.MaxentClassifier.train(train_ft, algorithm,max_iter=20)\n",
    "        eval_result = evaluate_model(dev_test=dev_test, featurizer=featurizer,classifier=classifier)\n",
    "        \n",
    "        accuracy_out.append(eval_result[\"accr\"])\n",
    "        print \".\",\n",
    "    \n",
    "    return accuracy_out"
   ]
  },
  {
   "cell_type": "code",
   "execution_count": 228,
   "metadata": {
    "collapsed": false
   },
   "outputs": [
    {
     "name": "stdout",
     "output_type": "stream",
     "text": [
      "  ==> Training (20 iterations)\n",
      "\n",
      "      Iteration    Log Likelihood    Accuracy\n",
      "      ---------------------------------------\n",
      "             1          -0.69315        0.355\n",
      "             2          -0.39622        0.865\n",
      "             3          -0.30432        0.900\n",
      "             4          -0.25809        0.908\n",
      "             5          -0.22976        0.919\n",
      "             6          -0.21025        0.924\n",
      "             7          -0.19575        0.931\n",
      "             8          -0.18440        0.933\n",
      "             9          -0.17518        0.937\n",
      "            10          -0.16746        0.940\n",
      "            11          -0.16086        0.942\n",
      "            12          -0.15513        0.944\n",
      "            13          -0.15009        0.947\n",
      "            14          -0.14559        0.950\n",
      "            15          -0.14155        0.952\n",
      "            16          -0.13789        0.953\n",
      "            17          -0.13455        0.954\n",
      "            18          -0.13149        0.955\n",
      "            19          -0.12866        0.957\n",
      "         Final          -0.12604        0.958\n",
      ".  ==> Training (20 iterations)\n",
      "\n",
      "      Iteration    Log Likelihood    Accuracy\n",
      "      ---------------------------------------\n",
      "             1          -0.69315        0.358\n",
      "             2          -0.39958        0.864\n",
      "             3          -0.30753        0.898\n",
      "             4          -0.26091        0.910\n",
      "             5          -0.23221        0.919\n",
      "             6          -0.21238        0.926\n",
      "             7          -0.19763        0.930\n",
      "             8          -0.18605        0.933\n",
      "             9          -0.17663        0.937\n",
      "            10          -0.16875        0.940\n",
      "            11          -0.16201        0.943\n",
      "            12          -0.15616        0.945\n",
      "            13          -0.15101        0.948\n",
      "            14          -0.14642        0.950\n",
      "            15          -0.14229        0.953\n",
      "            16          -0.13856        0.955\n",
      "            17          -0.13515        0.956\n",
      "            18          -0.13203        0.957\n",
      "            19          -0.12915        0.959\n",
      "         Final          -0.12648        0.960\n",
      " .  ==> Training (20 iterations)\n",
      "\n",
      "      Iteration    Log Likelihood    Accuracy\n",
      "      ---------------------------------------\n",
      "             1          -0.69315        0.357\n",
      "             2          -0.39788        0.864\n",
      "             3          -0.30593        0.897\n",
      "             4          -0.25953        0.909\n",
      "             5          -0.23104        0.918\n",
      "             6          -0.21138        0.924\n",
      "             7          -0.19674        0.928\n",
      "             8          -0.18527        0.932\n",
      "             9          -0.17592        0.937\n",
      "            10          -0.16810        0.939\n",
      "            11          -0.16141        0.941\n",
      "            12          -0.15559        0.945\n",
      "            13          -0.15047        0.949\n",
      "            14          -0.14590        0.951\n",
      "            15          -0.14180        0.953\n",
      "            16          -0.13808        0.954\n",
      "            17          -0.13469        0.955\n",
      "            18          -0.13158        0.956\n",
      "            19          -0.12871        0.958\n",
      "         Final          -0.12606        0.959\n",
      " .  ==> Training (20 iterations)\n",
      "\n",
      "      Iteration    Log Likelihood    Accuracy\n",
      "      ---------------------------------------\n",
      "             1          -0.69315        0.358\n",
      "             2          -0.39711        0.863\n",
      "             3          -0.30478        0.899\n",
      "             4          -0.25826        0.911\n",
      "             5          -0.22975        0.919\n",
      "             6          -0.21014        0.924\n",
      "             7          -0.19559        0.930\n",
      "             8          -0.18421        0.934\n",
      "             9          -0.17496        0.938\n",
      "            10          -0.16724        0.941\n",
      "            11          -0.16065        0.944\n",
      "            12          -0.15493        0.946\n",
      "            13          -0.14989        0.948\n",
      "            14          -0.14541        0.950\n",
      "            15          -0.14139        0.952\n",
      "            16          -0.13774        0.953\n",
      "            17          -0.13442        0.954\n",
      "            18          -0.13138        0.955\n",
      "            19          -0.12858        0.956\n",
      "         Final          -0.12598        0.957\n",
      " .  ==> Training (20 iterations)\n",
      "\n",
      "      Iteration    Log Likelihood    Accuracy\n",
      "      ---------------------------------------\n",
      "             1          -0.69315        0.355\n",
      "             2          -0.40232        0.866\n",
      "             3          -0.30864        0.897\n",
      "             4          -0.26088        0.909\n",
      "             5          -0.23148        0.920\n",
      "             6          -0.21125        0.926\n",
      "             7          -0.19626        0.930\n",
      "             8          -0.18456        0.934\n",
      "             9          -0.17508        0.938\n",
      "            10          -0.16717        0.942\n",
      "            11          -0.16044        0.944\n",
      "            12          -0.15460        0.946\n",
      "            13          -0.14947        0.948\n",
      "            14          -0.14491        0.950\n",
      "            15          -0.14082        0.952\n",
      "            16          -0.13712        0.953\n",
      "            17          -0.13375        0.954\n",
      "            18          -0.13066        0.956\n",
      "            19          -0.12782        0.957\n",
      "         Final          -0.12519        0.958\n",
      " .  ==> Training (20 iterations)\n",
      "\n",
      "      Iteration    Log Likelihood    Accuracy\n",
      "      ---------------------------------------\n",
      "             1          -0.69315        0.359\n",
      "             2          -0.40088        0.862\n",
      "             3          -0.30869        0.898\n",
      "             4          -0.26198        0.911\n",
      "             5          -0.23325        0.920\n",
      "             6          -0.21343        0.925\n",
      "             7          -0.19870        0.930\n",
      "             8          -0.18718        0.935\n",
      "             9          -0.17781        0.938\n",
      "            10          -0.16999        0.941\n",
      "            11          -0.16331        0.944\n",
      "            12          -0.15751        0.945\n",
      "            13          -0.15241        0.949\n",
      "            14          -0.14787        0.949\n",
      "            15          -0.14380        0.950\n",
      "            16          -0.14011        0.952\n",
      "            17          -0.13675        0.953\n",
      "            18          -0.13366        0.953\n",
      "            19          -0.13082        0.954\n",
      "         Final          -0.12819        0.956\n",
      " .  ==> Training (20 iterations)\n",
      "\n",
      "      Iteration    Log Likelihood    Accuracy\n",
      "      ---------------------------------------\n",
      "             1          -0.69315        0.359\n",
      "             2          -0.40033        0.864\n",
      "             3          -0.30811        0.897\n",
      "             4          -0.26143        0.910\n",
      "             5          -0.23273        0.919\n",
      "             6          -0.21296        0.925\n",
      "             7          -0.19827        0.929\n",
      "             8          -0.18678        0.932\n",
      "             9          -0.17744        0.938\n",
      "            10          -0.16965        0.941\n",
      "            11          -0.16299        0.942\n",
      "            12          -0.15721        0.944\n",
      "            13          -0.15213        0.948\n",
      "            14          -0.14761        0.949\n",
      "            15          -0.14354        0.951\n",
      "            16          -0.13986        0.951\n",
      "            17          -0.13651        0.952\n",
      "            18          -0.13343        0.953\n",
      "            19          -0.13059        0.954\n",
      "         Final          -0.12797        0.955\n",
      " .  ==> Training (20 iterations)\n",
      "\n",
      "      Iteration    Log Likelihood    Accuracy\n",
      "      ---------------------------------------\n",
      "             1          -0.69315        0.357\n",
      "             2          -0.39834        0.863\n",
      "             3          -0.30638        0.898\n",
      "             4          -0.25989        0.912\n",
      "             5          -0.23132        0.922\n",
      "             6          -0.21161        0.928\n",
      "             7          -0.19696        0.933\n",
      "             8          -0.18547        0.936\n",
      "             9          -0.17613        0.940\n",
      "            10          -0.16832        0.943\n",
      "            11          -0.16165        0.945\n",
      "            12          -0.15585        0.946\n",
      "            13          -0.15074        0.948\n",
      "            14          -0.14619        0.950\n",
      "            15          -0.14210        0.952\n",
      "            16          -0.13840        0.953\n",
      "            17          -0.13502        0.955\n",
      "            18          -0.13193        0.957\n",
      "            19          -0.12907        0.958\n",
      "         Final          -0.12643        0.959\n",
      " .  ==> Training (20 iterations)\n",
      "\n",
      "      Iteration    Log Likelihood    Accuracy\n",
      "      ---------------------------------------\n",
      "             1          -0.69315        0.353\n",
      "             2          -0.39968        0.861\n",
      "             3          -0.30847        0.900\n",
      "             4          -0.26197        0.911\n",
      "             5          -0.23321        0.920\n",
      "             6          -0.21329        0.925\n",
      "             7          -0.19845        0.930\n",
      "             8          -0.18682        0.934\n",
      "             9          -0.17735        0.938\n",
      "            10          -0.16944        0.941\n",
      "            11          -0.16269        0.943\n",
      "            12          -0.15683        0.944\n",
      "            13          -0.15167        0.947\n",
      "            14          -0.14708        0.948\n",
      "            15          -0.14297        0.949\n",
      "            16          -0.13924        0.951\n",
      "            17          -0.13584        0.953\n",
      "            18          -0.13273        0.954\n",
      "            19          -0.12987        0.956\n",
      "         Final          -0.12722        0.956\n",
      " .  ==> Training (20 iterations)\n",
      "\n",
      "      Iteration    Log Likelihood    Accuracy\n",
      "      ---------------------------------------\n",
      "             1          -0.69315        0.357\n",
      "             2          -0.40067        0.864\n",
      "             3          -0.30878        0.896\n",
      "             4          -0.26221        0.911\n",
      "             5          -0.23354        0.920\n",
      "             6          -0.21376        0.925\n",
      "             7          -0.19904        0.930\n",
      "             8          -0.18751        0.934\n",
      "             9          -0.17814        0.937\n",
      "            10          -0.17031        0.940\n",
      "            11          -0.16362        0.943\n",
      "            12          -0.15781        0.945\n",
      "            13          -0.15271        0.947\n",
      "            14          -0.14816        0.949\n",
      "            15          -0.14408        0.951\n",
      "            16          -0.14038        0.953\n",
      "            17          -0.13701        0.954\n",
      "            18          -0.13392        0.955\n",
      "            19          -0.13108        0.956\n",
      "         Final          -0.12845        0.956\n",
      " .\n"
     ]
    }
   ],
   "source": [
    "# Evaluate the features and classifier\n",
    "me_gf3 = iterate_me_validation(data=training_data, test_size=500, featurizer=gender_features_3,n_iter=10)"
   ]
  },
  {
   "cell_type": "code",
   "execution_count": 229,
   "metadata": {
    "collapsed": false
   },
   "outputs": [
    {
     "data": {
      "image/png": "[encoded data removed]",
      "text/plain": [
       "<matplotlib.figure.Figure at 0x11bf9dd90>"
      ]
     },
     "metadata": {},
     "output_type": "display_data"
    }
   ],
   "source": [
    "data = [nb_gf0, nb_gf1, nb_gf2, nb_gf3, me_gf3]\n",
    "labels=[\"nb_gf0\", \"nb_gf1\",\"nb_gf2\",\"nb_gf3\",\"me_gf3\"]\n",
    "plt.figure(figsize=(8,4))\n",
    "plt.boxplot(data,1,\"D\",0,labels=labels)\n",
    "plt.title(\"Accuracy after 30 CV iterations: Naive Bayes and MaxEntropy Models + Multiple Feature Sets\")\n",
    "plt.show()"
   ]
  },
  {
   "cell_type": "markdown",
   "metadata": {},
   "source": [
    "We can see that this classifier performs on par with Naive Bayes on the same set of features, achieving **above 86%** accuracy.\n",
    "We can now inspect a random training fold to understand the feature importance for this classifier:"
   ]
  },
  {
   "cell_type": "code",
   "execution_count": 230,
   "metadata": {
    "collapsed": true
   },
   "outputs": [],
   "source": [
    "# Split dataset\n",
    "dev_test, train_set = split_train_test(training_data, 500) \n",
    "\n",
    "# Generate training features\n",
    "train_ft = apply_features(gender_features_3, train_set)"
   ]
  },
  {
   "cell_type": "code",
   "execution_count": 231,
   "metadata": {
    "collapsed": false
   },
   "outputs": [
    {
     "name": "stdout",
     "output_type": "stream",
     "text": [
      "  ==> Training (20 iterations)\n",
      "\n",
      "      Iteration    Log Likelihood    Accuracy\n",
      "      ---------------------------------------\n",
      "             1          -0.69315        0.355\n",
      "             2          -0.36739        0.847\n",
      "             3          -0.28871        0.890\n",
      "             4          -0.24955        0.904\n",
      "             5          -0.22544        0.910\n",
      "             6          -0.20860        0.918\n",
      "             7          -0.19587        0.924\n",
      "             8          -0.18573        0.928\n",
      "             9          -0.17736        0.933\n",
      "            10          -0.17025        0.937\n",
      "            11          -0.16411        0.940\n",
      "            12          -0.15871        0.943\n",
      "            13          -0.15391        0.945\n",
      "            14          -0.14960        0.947\n",
      "            15          -0.14569        0.949\n",
      "            16          -0.14213        0.950\n",
      "            17          -0.13886        0.952\n",
      "            18          -0.13585        0.953\n",
      "            19          -0.13306        0.954\n",
      "         Final          -0.13046        0.955\n"
     ]
    }
   ],
   "source": [
    "# Apply Naive Bayes classifier\n",
    "algorithm = nltk.classify.MaxentClassifier.ALGORITHMS[1]\n",
    "classifier_me = nltk.MaxentClassifier.train(train_ft, algorithm,max_iter=20)\n",
    "\n",
    "# Evaluate the features and classifier\n",
    "eval_me = evaluate_model(dev_test=dev_test, featurizer=gender_features_3,classifier=classifier_me)"
   ]
  },
  {
   "cell_type": "code",
   "execution_count": 232,
   "metadata": {
    "collapsed": false
   },
   "outputs": [
    {
     "name": "stdout",
     "output_type": "stream",
     "text": [
      "Accuracy on the test set: 85.8% \n",
      "\n",
      "   6.994 suffix_3==u'hna' and label is 'male'\n",
      "  -5.560 lastletter==u'k' and label is 'female'\n",
      "   5.308 prefix_3==u'eti' and label is 'male'\n",
      "  -4.806 suffix_2==u'us' and label is 'female'\n",
      "  -4.509 suffix_2==u'na' and label is 'male'\n",
      "  -4.458 lastletter==u'a' and label is 'male'\n",
      "   4.062 suffix_3==u'rko' and label is 'male'\n",
      "   3.981 prefix_3==u'ezr' and label is 'male'\n",
      "   3.981 suffix_3==u'zra' and label is 'male'\n",
      "   3.915 suffix_3==u'pam' and label is 'female'\n",
      "\n",
      " Confusion Matrix: \n",
      "\n",
      "       |   f     |\n",
      "       |   e     |\n",
      "       |   m   m |\n",
      "       |   a   a |\n",
      "       |   l   l |\n",
      "       |   e   e |\n",
      "-------+---------+\n",
      "female |<284> 26 |\n",
      "  male |  45<145>|\n",
      "-------+---------+\n",
      "(row = reference; col = test)\n",
      "\n",
      "\n",
      " Errors: \n",
      "correct=female   guess=male     name=Joyous                        \n",
      "correct=female   guess=male     name=Emily                         \n",
      "correct=female   guess=male     name=Rafa                          \n",
      "correct=female   guess=male     name=Gigi                          \n",
      "correct=female   guess=male     name=Penelope                      \n",
      "correct=male     guess=female   name=Hollis                        \n",
      "correct=male     guess=female   name=Winslow                       \n",
      "correct=female   guess=male     name=Ambur                         \n",
      "correct=male     guess=female   name=Leonid                        \n",
      "correct=female   guess=male     name=Nichol                        \n"
     ]
    }
   ],
   "source": [
    "print_eval_results(classifier=classifier_me,eval_output=eval_me,err_cnt=10)"
   ]
  },
  {
   "cell_type": "markdown",
   "metadata": {},
   "source": [
    "Findings:  \n",
    "1) The feature importance of the Maximum Entropy model is significantly harder to interpret, as multiple feature interactions are involved in defining the probability of a label  \n",
    "2) The errors returned by this classifier show some difficult cases, where it is hard to say from the sound of the name to which gender it belongs such as \"Rafa\" or \"Hollis\".  \n",
    "3) However, some \"simple\" names such as \"Emily\" were also misclassified."
   ]
  },
  {
   "cell_type": "markdown",
   "metadata": {},
   "source": [
    "---\n",
    "\n",
    "### 5. Performance on the holdout set\n",
    "\n",
    "As both the Naive Bayes and the Maximum Entropy classifier performed well on the training data, we choose the more parsimonious model - Naive Bayes - to continue and test the performance on the holdout test set.\n",
    "  \n",
    "This time though, we will train the Naive Bayes classifier on the full training dataset."
   ]
  },
  {
   "cell_type": "code",
   "execution_count": 244,
   "metadata": {
    "collapsed": true
   },
   "outputs": [],
   "source": [
    "# Train NB classifier on all training data\n",
    "\n",
    "train_ft_final = apply_features(gender_features_3, training_data)\n",
    "classifier_final = nltk.NaiveBayesClassifier.train(train_ft_final)"
   ]
  },
  {
   "cell_type": "code",
   "execution_count": 245,
   "metadata": {
    "collapsed": false
   },
   "outputs": [
    {
     "name": "stdout",
     "output_type": "stream",
     "text": [
      "Accuracy on the test set: 87.6% \n",
      "\n",
      "Most Informative Features\n",
      "                suffix_2 = u'na'          female : male   =    157.0 : 1.0\n",
      "              lastletter = u'k'             male : female =     74.9 : 1.0\n",
      "                suffix_2 = u'la'          female : male   =     70.6 : 1.0\n",
      "                suffix_2 = u'ra'          female : male   =     56.6 : 1.0\n",
      "                suffix_2 = u'rt'            male : female =     55.7 : 1.0\n",
      "                suffix_2 = u'ia'          female : male   =     52.2 : 1.0\n",
      "              lastletter = u'a'           female : male   =     52.0 : 1.0\n",
      "                suffix_2 = u'ta'          female : male   =     41.9 : 1.0\n",
      "                suffix_2 = u'us'            male : female =     41.2 : 1.0\n",
      "                suffix_3 = u'ert'           male : female =     27.7 : 1.0\n",
      "\n",
      " Confusion Matrix: \n",
      "\n",
      "       |   f     |\n",
      "       |   e     |\n",
      "       |   m   m |\n",
      "       |   a   a |\n",
      "       |   l   l |\n",
      "       |   e   e |\n",
      "-------+---------+\n",
      "female |<288> 30 |\n",
      "  male |  32<150>|\n",
      "-------+---------+\n",
      "(row = reference; col = test)\n",
      "\n",
      "\n",
      " Errors: \n",
      "correct=female   guess=male     name=Haily                         \n",
      "correct=female   guess=male     name=Doloritas                     \n",
      "correct=female   guess=male     name=Chrysler                      \n",
      "correct=female   guess=male     name=Ester                         \n",
      "correct=female   guess=male     name=Hope                          \n",
      "correct=male     guess=female   name=Klee                          \n",
      "correct=male     guess=female   name=Flynn                         \n",
      "correct=male     guess=female   name=Godfree                       \n",
      "correct=female   guess=male     name=Gerty                         \n",
      "correct=female   guess=male     name=Ealasaid                      \n"
     ]
    }
   ],
   "source": [
    "# Evaluate the features and the trained classifier\n",
    "eval_test = evaluate_model(dev_test=test_set, featurizer=gender_features_3,classifier=classifier_final)\n",
    "print_eval_results(classifier_final,eval_test,10)"
   ]
  },
  {
   "cell_type": "markdown",
   "metadata": {},
   "source": [
    "The final Naive Bayes classifier is performing comparably well on the holdout set compared to the previous cross-validation iterations achieving **87.6% accuracy**.  \n",
    "We can see that among the remaining 62 misclassified male and female names, a few are rare or unusually sounding for their gender: such as female names \"Chrysler\", \"Ealasaid\", and \"Doloritas\", and a male name \"Klee\"."
   ]
  }
 ],
 "metadata": {
  "kernelspec": {
   "display_name": "Python 2",
   "language": "python",
   "name": "python2"
  },
  "language_info": {
   "codemirror_mode": {
    "name": "ipython",
    "version": 2
   },
   "file_extension": ".py",
   "mimetype": "text/x-python",
   "name": "python",
   "nbconvert_exporter": "python",
   "pygments_lexer": "ipython2",
   "version": "2.7.13"
  }
 },
 "nbformat": 4,
 "nbformat_minor": 2
}
