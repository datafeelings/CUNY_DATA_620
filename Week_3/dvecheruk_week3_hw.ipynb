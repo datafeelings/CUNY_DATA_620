{
 "cells": [
  {
   "cell_type": "markdown",
   "metadata": {},
   "source": [
    "## CUNY MSDA Fall 2017 Semester\n",
    "### DATA 620 \n",
    "### Week 3 Homework Assigment \n",
    "By Dmitriy Vecheruk\n",
    "\n",
    "-----\n"
   ]
  },
  {
   "cell_type": "markdown",
   "metadata": {},
   "source": [
    "**Assignment**  \n",
    "\n",
    "*1. Load a graph database of your choosing from a text file or other source. If you take a\n",
    "large network dataset from the web (such as from https://snap.stanford.edu/data/), please\n",
    "feel free at this point to load just a small subset of the nodes and edges.*  \n",
    "\n",
    "*2. Create basic analysis on the graph, including the graph’s diameter, and at least one other\n",
    "metric of your choosing. You may either code the functions by hand (to build your\n",
    "intuition and insight), or use functions in an existing package.*  \n",
    "\n",
    "*3. Use a visualization tool of your choice (Neo4j, Gephi, etc.) to display information.*  \n",
    "\n",
    "*4. Please record a short video (~ 5 minutes), and submit a link to the video as part of your\n",
    "homework submission.*\n",
    "\n",
    "  \n",
    "----\n",
    "\n"
   ]
  },
  {
   "cell_type": "markdown",
   "metadata": {},
   "source": [
    "**Solution**\n",
    "  \n",
    "**Part 1: Load graph**  \n",
    "I have picked a relatively small graph of the connections between anonymized Facebook users from https://snap.stanford.edu/data/egonets-Facebook.html.  \n",
    "It is an undirected simple graph that hopefully will show some groups of friends in the visualization stage."
   ]
  },
  {
   "cell_type": "code",
   "execution_count": 8,
   "metadata": {
    "collapsed": true
   },
   "outputs": [],
   "source": [
    "# Setup\n",
    "\n",
    "import networkx as nx\n",
    "\n",
    "data_path = \"data/\"\n",
    "filename = \"facebook_combined.txt.gz\""
   ]
  },
  {
   "cell_type": "code",
   "execution_count": 9,
   "metadata": {
    "collapsed": false
   },
   "outputs": [],
   "source": [
    "g = nx.read_adjlist(path=data_path+filename)"
   ]
  },
  {
   "cell_type": "markdown",
   "metadata": {},
   "source": [
    "We have sucessfully loaded a graph from an adjacency list and networkX has generated its edges:"
   ]
  },
  {
   "cell_type": "code",
   "execution_count": 26,
   "metadata": {
    "collapsed": false
   },
   "outputs": [
    {
     "name": "stdout",
     "output_type": "stream",
     "text": [
      "[u'3382', u'3734', u'4026', u'3724', u'4024', u'4025', u'4022', u'4023', u'4020', u'3725']\n"
     ]
    }
   ],
   "source": [
    "print g.nodes()[:10]"
   ]
  },
  {
   "cell_type": "code",
   "execution_count": 17,
   "metadata": {
    "collapsed": false
   },
   "outputs": [
    {
     "name": "stdout",
     "output_type": "stream",
     "text": [
      "[(u'3382', u'3423'), (u'3382', u'3318'), (u'3382', u'3311'), (u'3382', u'2982'), (u'3382', u'2879'), (u'3382', u'2889'), (u'3382', u'3325'), (u'3382', u'2703'), (u'3382', u'3314'), (u'3382', u'2670')]\n"
     ]
    }
   ],
   "source": [
    "print g.edges()[:10]"
   ]
  },
  {
   "cell_type": "code",
   "execution_count": 22,
   "metadata": {
    "collapsed": false
   },
   "outputs": [
    {
     "name": "stdout",
     "output_type": "stream",
     "text": [
      "[u'3423', u'3318', u'3311', u'2982', u'2879', u'2889', u'3325', u'2703', u'3314', u'2670', u'1684', u'2699', u'3309', u'2972', u'3283', u'3008', u'2959']\n"
     ]
    }
   ],
   "source": [
    "print g.neighbors('3382')"
   ]
  },
  {
   "cell_type": "markdown",
   "metadata": {},
   "source": [
    "**Part 2: Basic Analysis**"
   ]
  },
  {
   "cell_type": "code",
   "execution_count": 86,
   "metadata": {
    "collapsed": false
   },
   "outputs": [],
   "source": [
    "# Compute graph metrics\n",
    "\n",
    "node_cnt = g.number_of_nodes()\n",
    "edge_cnt = len(g.edges())\n",
    "avg_edges_p_node = round(edge_cnt/node_cnt)\n",
    "\n",
    "neighbor_cnts = [len(g.neighbors(node)) for node in g.nodes()]\n",
    "min_neighb = min(neighbor_cnts)\n",
    "max_neighb = max(neighbor_cnts)"
   ]
  },
  {
   "cell_type": "code",
   "execution_count": null,
   "metadata": {
    "collapsed": false
   },
   "outputs": [],
   "source": [
    "# Compute graph diameter using the built-in algorithm\n",
    "\n",
    "diameter = nx.algorithms.diameter(g)"
   ]
  },
  {
   "cell_type": "markdown",
   "metadata": {},
   "source": [
    "Graph diameter is the length of the \"longest shortest path\" between two nodes of a graph [1]."
   ]
  },
  {
   "cell_type": "code",
   "execution_count": null,
   "metadata": {
    "collapsed": true
   },
   "outputs": [],
   "source": [
    "# Compute the average clustering coefficient\n",
    "avg_clust_c = nx.algorithms.average_clustering(g)"
   ]
  },
  {
   "cell_type": "markdown",
   "metadata": {},
   "source": [
    "The local clustering of each node in G is the fraction of triangles that actually exist over all possible triangles in its neighborhood. The average clustering coefficient of a graph G is the mean of local clusterings.\n",
    "  \n",
    "Networkx calculates the approximate global clustering coefficient of the network by conducting the following experiment multiple times (1000 by default): \"choose a node at random, choose two of its neighbors at random, and check if they are connected. The approximate coefficient is the fraction of triangles found over the number of trials [2]\".\n",
    "    "
   ]
  },
  {
   "cell_type": "code",
   "execution_count": 90,
   "metadata": {
    "collapsed": false
   },
   "outputs": [
    {
     "name": "stdout",
     "output_type": "stream",
     "text": [
      "\n",
      "Count of nodes: 4039\n",
      "Count of edges: 88234\n",
      "Average edges per node: 21.0\n",
      "Minimum neighbors per node: 1\n",
      "Maximum neighbors per node: 1045\n",
      "Graph diameter: 8\n",
      "Avg. clustering coefficient: 0.61\n",
      "\n",
      "\n"
     ]
    }
   ],
   "source": [
    "print \"\"\"\n",
    "Count of nodes: {}\n",
    "Count of edges: {}\n",
    "Average edges per node: {}\n",
    "Minimum neighbors per node: {}\n",
    "Maximum neighbors per node: {}\n",
    "Graph diameter: {}\n",
    "Avg. clustering coefficient: {}\n",
    "\n",
    "\"\"\".format(node_cnt,edge_cnt,avg_edges_p_node,min_neighb,max_neighb,diameter, round(avg_clust_c,2))"
   ]
  },
  {
   "cell_type": "markdown",
   "metadata": {},
   "source": [
    "**Part 3: Display the graph**  \n",
    "I have chosen Gephi to visualize the graph."
   ]
  },
  {
   "cell_type": "code",
   "execution_count": 63,
   "metadata": {
    "collapsed": false
   },
   "outputs": [],
   "source": [
    "# Saving into Gephi-compatible format\n",
    "output_file = \"fb_graph.gexf\"\n",
    "nx.write_gexf(g,data_path + output_file)"
   ]
  },
  {
   "cell_type": "markdown",
   "metadata": {},
   "source": [
    "I have applied the Fruchterman Reingold layout in Gephi in order to see the circles of interconnected users:"
   ]
  },
  {
   "cell_type": "markdown",
   "metadata": {},
   "source": [
    "<img src=\"figures/fb_graph.png\">"
   ]
  },
  {
   "cell_type": "markdown",
   "metadata": {},
   "source": [
    "We can see the close-knit groups of people who are friends with one of the 10 individuals whose ego-networks were merged in this dataset, as well some individuals that share connections across the groups"
   ]
  },
  {
   "cell_type": "markdown",
   "metadata": {},
   "source": [
    "**Part 4: Video**\n",
    "  \n",
    "The link to the video walkthrough is [here](https://www.youtube.com/watch?v=JdwSOYk_mkU)."
   ]
  },
  {
   "cell_type": "markdown",
   "metadata": {},
   "source": [
    "### Reference\n",
    "  \n",
    "1. http://mathworld.wolfram.com/GraphDiameter.html\n",
    "2. https://networkx.github.io/documentation/networkx-1.10/reference/generated/networkx.algorithms.approximation.clustering_coefficient.average_clustering.html#networkx.algorithms.approximation.clustering_coefficient.average_clustering \n",
    "3. https://networkx.github.io/documentation/networkx-1.10/reference\n",
    "4. https://snap.stanford.edu/data/egonets-Facebook.html"

   ]
  }
 ],
 "metadata": {
  "kernelspec": {
   "display_name": "Python 2",
   "language": "python",
   "name": "python2"
  },
  "language_info": {
   "codemirror_mode": {
    "name": "ipython",
    "version": 2
   },
   "file_extension": ".py",
   "mimetype": "text/x-python",
   "name": "python",
   "nbconvert_exporter": "python",
   "pygments_lexer": "ipython2",
   "version": "2.7.13"
  }
 },
 "nbformat": 4,
 "nbformat_minor": 2
}
