{
 "cells": [
  {
   "cell_type": "markdown",
   "metadata": {},
   "source": [
    "## CUNY MSDA Fall 2017 Semester\n",
    "### DATA 620\n",
    "### Project 1: Tumblr Blog Centrality and Likes\n",
    "By Dmitriy Vecheruk"
   ]
  },
  {
   "cell_type": "markdown",
   "metadata": {},
   "source": [
    "# Part 1: Generating a graph of Tumblr likes"
   ]
  },
  {
   "cell_type": "code",
   "execution_count": 105,
   "metadata": {
    "collapsed": true
   },
   "outputs": [],
   "source": [
    "import pytumblr\n",
    "import networkx as net\n",
    "import matplotlib\n",
    "from pathlib2 import Path\n",
    "import pandas as pd\n",
    "%matplotlib inline"
   ]
  },
  {
   "cell_type": "code",
   "execution_count": 16,
   "metadata": {
    "collapsed": false
   },
   "outputs": [],
   "source": [
    "# Read the OAuth secret\n",
    "\n",
    "auth_info = [line.strip() for line in open(\"tumblr_auth.txt\")]\n",
    "auth_info = [item.strip(\"'\") for item in auth_info]"
   ]
  },
  {
   "cell_type": "code",
   "execution_count": 17,
   "metadata": {
    "collapsed": false
   },
   "outputs": [
    {
     "data": {
      "text/plain": [
       "{u'user': {u'blogs': [{u'admin': True,\n",
       "    u'ask': False,\n",
       "    u'ask_anon': False,\n",
       "    u'ask_page_title': u'Ask me anything',\n",
       "    u'can_send_fan_mail': True,\n",
       "    u'can_subscribe': False,\n",
       "    u'description': u'',\n",
       "    u'drafts': 0,\n",
       "    u'facebook': u'N',\n",
       "    u'facebook_opengraph_enabled': u'N',\n",
       "    u'followed': False,\n",
       "    u'followers': 1,\n",
       "    u'is_adult': False,\n",
       "    u'is_blocked_from_primary': False,\n",
       "    u'is_nsfw': False,\n",
       "    u'likes': 0,\n",
       "    u'messages': 0,\n",
       "    u'name': u'annoyingapinerd',\n",
       "    u'posts': 0,\n",
       "    u'primary': True,\n",
       "    u'queue': 0,\n",
       "    u'reply_conditions': u'3',\n",
       "    u'share_likes': True,\n",
       "    u'subscribed': False,\n",
       "    u'title': u'Untitled',\n",
       "    u'total_posts': 0,\n",
       "    u'tweet': u'N',\n",
       "    u'twitter_enabled': False,\n",
       "    u'twitter_send': False,\n",
       "    u'type': u'public',\n",
       "    u'updated': 0,\n",
       "    u'url': u'https://annoyingapinerd.tumblr.com/'}],\n",
       "  u'default_post_format': u'html',\n",
       "  u'following': 0,\n",
       "  u'likes': 0,\n",
       "  u'name': u'annoyingapinerd'}}"
      ]
     },
     "execution_count": 17,
     "metadata": {},
     "output_type": "execute_result"
    }
   ],
   "source": [
    "# Set up the client\n",
    "client = pytumblr.TumblrRestClient(auth_info[0],auth_info[1],auth_info[2],auth_info[3])\n",
    "\n",
    "# Make the request\n",
    "client.info()\n"
   ]
  },
  {
   "cell_type": "code",
   "execution_count": 18,
   "metadata": {
    "collapsed": true
   },
   "outputs": [],
   "source": [
    "def get_liked_blogs(blog_name):\n",
    "    blog_liked_blogs = []\n",
    "    \n",
    "    try:\n",
    "        blog_liked_posts = client.blog_likes(blog_name)[\"liked_posts\"]\n",
    "    except KeyError:\n",
    "        return []\n",
    "    \n",
    "    blog_liked_blogs = list(set([item[\"blog_name\"] for item in blog_liked_posts]))\n",
    "    \n",
    "    return blog_liked_blogs"
   ]
  },
  {
   "cell_type": "code",
   "execution_count": 19,
   "metadata": {
    "collapsed": false
   },
   "outputs": [],
   "source": [
    "def collate_blog_data(blog_name):\n",
    "\n",
    "    # Collect the attributes of this blog\n",
    "    blog_info = client.blog_info(blog_name)\n",
    "    blog_info = blog_info[\"blog\"]\n",
    "    \n",
    "    try:\n",
    "        blog_like_cnt = blog_info[\"likes\"]\n",
    "    except KeyError:\n",
    "        blog_like_cnt = 0\n",
    "    try:\n",
    "        blog_post_cnt = blog_info[\"total_posts\"]\n",
    "    except KeyError:\n",
    "        blog_post_cnt = 0\n",
    "    \n",
    "    # Collect the list of the blogs liked by this blog\n",
    "    blog_liked_blogs = get_liked_blogs(blog_name)\n",
    "\n",
    "    # Put into a dict\n",
    "    blog_data = dict(name= blog_name, like_cnt=blog_like_cnt,post_cnt=blog_post_cnt,liked_blogs=blog_liked_blogs)\n",
    "    \n",
    "    return blog_data"
   ]
  },
  {
   "cell_type": "code",
   "execution_count": 20,
   "metadata": {
    "collapsed": false
   },
   "outputs": [],
   "source": [
    "def tumblr_get_neighbors(g, seed_blog_name):\n",
    "    \"\"\"\n",
    "    Appends a set of nodes and edges describing Tumblr blogs to a networkx graph object. \n",
    "    Returns updated graph object containing the seed blog and its liked blogs as neighbors\n",
    "    \"\"\"\n",
    "\n",
    "    # Generate the initial set of neighbors and attributes of the central node\n",
    "\n",
    "    blog_data = collate_blog_data(seed_blog_name)\n",
    "\n",
    "    for item in blog_data[\"liked_blogs\"]:\n",
    "        g.add_edge(blog_data[\"name\"],item)\n",
    "    \n",
    "    g.add_node(seed_blog_name, name = seed_blog_name)\n",
    "    g.node[blog_data[\"name\"]]['post_cnt']=blog_data[\"post_cnt\"]\n",
    "    g.node[blog_data[\"name\"]]['like_cnt']=blog_data[\"like_cnt\"]\n",
    "\n",
    "    return g\n"
   ]
  },
  {
   "cell_type": "code",
   "execution_count": 34,
   "metadata": {
    "collapsed": false
   },
   "outputs": [],
   "source": [
    "def tumblr_snowball_sampling(g, seed_blog_name):\n",
    "    \n",
    "    # initial graph\n",
    "    initial_graph = tumblr_get_neighbors(g, seed_blog_name)\n",
    "    \n",
    "    neighbors = initial_graph.neighbors(seed_blog_name)\n",
    "    visited_list = [seed_blog_name]\n",
    "    \n",
    "    # explore likes of 1st order neighbors\n",
    "    for item in neighbors:\n",
    "        \n",
    "        if item in visited_list:\n",
    "            pass\n",
    "        else:\n",
    "            tumblr_get_neighbors(g, item)\n",
    "            visited_list.append(item)\n",
    "            print '>',\n",
    "    \n",
    "    # explore likes of 2nd order neighbors\n",
    "    boundary = [elem for elem in g.nodes() if elem not in visited_list]\n",
    "    \n",
    "    for item in boundary:\n",
    "        if item in visited_list:\n",
    "            pass\n",
    "        else:\n",
    "            tumblr_get_neighbors(g, item)\n",
    "            visited_list.append(item)\n",
    "            print '.',\n",
    "    \n",
    "    # explore likes of 3rd order neighbors\n",
    "    boundary = [elem for elem in g.nodes() if elem not in visited_list]\n",
    "    \n",
    "    for item in boundary:\n",
    "        if item in visited_list:\n",
    "            pass\n",
    "        else:\n",
    "            tumblr_get_neighbors(g, item)\n",
    "            visited_list.append(item)\n",
    "            print '+',\n",
    "    \n",
    "    return g"
   ]
  },
  {
   "cell_type": "code",
   "execution_count": 70,
   "metadata": {
    "collapsed": true
   },
   "outputs": [],
   "source": [
    "# Compute graph metrics\n",
    "\n",
    "def compute_graph_metrics(g):\n",
    "\n",
    "    node_cnt = g.number_of_nodes()\n",
    "    edge_cnt = len(g.edges())\n",
    "    neighbor_cnts = [len(g.neighbors(node)) for node in g.nodes()]\n",
    "    \n",
    "    return dict(\n",
    "    node_cnt = node_cnt,\n",
    "    edge_cnt = edge_cnt,\n",
    "    avg_degree = round(edge_cnt/node_cnt),\n",
    "    min_degree = min(neighbor_cnts),\n",
    "    max_degree = max(neighbor_cnts),\n",
    "    diameter = net.algorithms.diameter(g)\n",
    "    )"
   ]
  },
  {
   "cell_type": "code",
   "execution_count": 110,
   "metadata": {
    "collapsed": false
   },
   "outputs": [
    {
     "name": "stdout",
     "output_type": "stream",
     "text": [
      "Found file, loading graph\n"
     ]
    }
   ],
   "source": [
    "# Load the stored graph or generate new if file not found\n",
    "\n",
    "path_to_graph = Path(\"tumblr_graph.net\")\n",
    "\n",
    "if path_to_graph.exists():\n",
    "    print 'Found file, loading graph'\n",
    "    g = net.read_gexf(\"tumblr_graph.gexf\")\n",
    "else:\n",
    "    print 'File not found, building the graph from Tumblr API'\n",
    "    g=net.Graph()\n",
    "    seed_blog_name = u'lindapugliese'\n",
    "\n",
    "    g = tumblr_snowball_sampling(g,seed_blog_name)\n",
    "\n",
    "    net.write_pajek(g,\"tumblr_graph.net\")\n",
    "    net.write_gexf(g,\"tumblr_graph.gexf\")"
   ]
  },
  {
   "cell_type": "code",
   "execution_count": 111,
   "metadata": {
    "collapsed": false
   },
   "outputs": [
    {
     "name": "stdout",
     "output_type": "stream",
     "text": [
      "Built a graph with 1426 nodes\n"
     ]
    }
   ],
   "source": [
    "g_metrics = compute_graph_metrics(g)\n",
    "\n",
    "print \"Built a graph with {} nodes\".format(g_metrics[\"node_cnt\"])\n"
   ]
  },
  {
   "cell_type": "code",
   "execution_count": 112,
   "metadata": {
    "collapsed": false
   },
   "outputs": [
    {
     "name": "stdout",
     "output_type": "stream",
     "text": [
      "{'diameter': 8, 'edge_cnt': 1530, 'avg_degree': 1.0, 'node_cnt': 1426, 'min_degree': 1, 'max_degree': 20}\n"
     ]
    }
   ],
   "source": [
    "print g_metrics"
   ]
  },
  {
   "cell_type": "markdown",
   "metadata": {},
   "source": [
    "We can see that the graph has 1426 nodes loosely connected by just 1530 edges, leaving the average degree at 1. Also the graph diameter of 8 points to a graph where the outer edges are not well connected to each other.  \n",
    "This is illustrated in the visualization (made with Gephi). "
   ]
  },
  {
   "cell_type": "markdown",
   "metadata": {},
   "source": [
    "<img src=\"tumblr_graph_vis.png\">"
   ]
  },
  {
   "cell_type": "markdown",
   "metadata": {},
   "source": [
    "----\n",
    "  \n",
    "# Part 2: Prediction of blog popularity based on activity\n",
    "\n",
    "**Tasks:**  \n",
    "  \n",
    "* For each of the nodes in the dataset, calculate degree centrality and eigenvector centrality.  \n",
    "* Compare your centrality measures across your categorical groups."
   ]
  },
  {
   "cell_type": "markdown",
   "metadata": {},
   "source": [
    "As we have collected the number of posts and likes per blog in our network, we can compare these data with the blog centrality to see if blogs that have more posts / likes also have a higher centrality (are more popular).\n",
    "  \n",
    "Before starting this analysis, all nodes with degree 1 should be cut from the graph, as not all of them have complete information on likes, and overall such nodes do not add information."
   ]
  },
  {
   "cell_type": "code",
   "execution_count": 113,
   "metadata": {
    "collapsed": false
   },
   "outputs": [],
   "source": [
    "# Limit the graph to the center\n",
    "\n",
    "def trim_degrees(g, degree=1):\n",
    "    \"\"\"Source: Tsvetovat, Kouznetsov (2011). Social Network Analysis for Startups, p.49\"\"\"\n",
    "    \n",
    "    g2=g.copy() \n",
    "    d=net.degree(g2)\n",
    "    for n in g2.nodes():\n",
    "        if d[n]<=degree: g2.remove_node(n) \n",
    "    return g2"
   ]
  },
  {
   "cell_type": "code",
   "execution_count": 114,
   "metadata": {
    "collapsed": false
   },
   "outputs": [],
   "source": [
    "g1 = trim_degrees(g, degree=1)"
   ]
  },
  {
   "cell_type": "markdown",
   "metadata": {},
   "source": [
    "Here is the reduced graph"
   ]
  },
  {
   "cell_type": "code",
   "execution_count": 115,
   "metadata": {
    "collapsed": false
   },
   "outputs": [
    {
     "data": {
      "image/png": "[encoded data removed]",
      "text/plain": [
       "<matplotlib.figure.Figure at 0x110ab6f10>"
      ]
     },
     "metadata": {},
     "output_type": "display_data"
    }
   ],
   "source": [
    "net.draw(g1,node_size=20,node_color=\"blue\",pos=net.spring_layout(g1))"
   ]
  },
  {
   "cell_type": "code",
   "execution_count": 116,
   "metadata": {
    "collapsed": false
   },
   "outputs": [],
   "source": [
    "# For each of the nodes in the dataset, calculate degree centrality and eigenvector centrality.\n",
    "\n",
    "degree_centrality = net.degree(g1)\n",
    "ev_centrality = net.eigenvector_centrality(g1)"
   ]
  },
  {
   "cell_type": "code",
   "execution_count": 126,
   "metadata": {
    "collapsed": false
   },
   "outputs": [],
   "source": [
    "# Convert into a pandas dataframe for analysis\n",
    "\n",
    "rows = []\n",
    "\n",
    "for item in g1.nodes():\n",
    "    try:\n",
    "        rows.append([g1.node[item]['label'],g1.node[item]['post_cnt'],g1.node[item]['like_cnt'],\n",
    "                           degree_centrality[item],ev_centrality[item]])\n",
    "    except KeyError:\n",
    "        pass\n",
    "\n",
    "df = pd.DataFrame(columns=('name', 'post_cnt', 'like_cnt', 'deg_cent', 'ev_cent'))\n",
    "\n",
    "for i in range(0,len(rows)):\n",
    "    df.loc[i] = rows[i] "
   ]
  },
  {
   "cell_type": "code",
   "execution_count": 166,
   "metadata": {
    "collapsed": false
   },
   "outputs": [
    {
     "data": {
      "text/html": [
       "<div>\n",
       "<table border=\"1\" class=\"dataframe\">\n",
       "  <thead>\n",
       "    <tr style=\"text-align: right;\">\n",
       "      <th></th>\n",
       "      <th>name</th>\n",
       "      <th>post_cnt</th>\n",
       "      <th>like_cnt</th>\n",
       "      <th>deg_cent</th>\n",
       "      <th>ev_cent</th>\n",
       "    </tr>\n",
       "  </thead>\n",
       "  <tbody>\n",
       "    <tr>\n",
       "      <th>0</th>\n",
       "      <td>h-o-r-n-g-r-y</td>\n",
       "      <td>137008</td>\n",
       "      <td>0</td>\n",
       "      <td>3.0</td>\n",
       "      <td>0.009726</td>\n",
       "    </tr>\n",
       "    <tr>\n",
       "      <th>1</th>\n",
       "      <td>subliminous</td>\n",
       "      <td>1102</td>\n",
       "      <td>3378</td>\n",
       "      <td>3.0</td>\n",
       "      <td>0.003894</td>\n",
       "    </tr>\n",
       "    <tr>\n",
       "      <th>2</th>\n",
       "      <td>pocketsquareclothing</td>\n",
       "      <td>3175</td>\n",
       "      <td>69</td>\n",
       "      <td>1.0</td>\n",
       "      <td>0.001322</td>\n",
       "    </tr>\n",
       "    <tr>\n",
       "      <th>3</th>\n",
       "      <td>pictoturo</td>\n",
       "      <td>48854</td>\n",
       "      <td>0</td>\n",
       "      <td>2.0</td>\n",
       "      <td>0.001695</td>\n",
       "    </tr>\n",
       "    <tr>\n",
       "      <th>4</th>\n",
       "      <td>f525252</td>\n",
       "      <td>9039</td>\n",
       "      <td>3184</td>\n",
       "      <td>11.0</td>\n",
       "      <td>0.067658</td>\n",
       "    </tr>\n",
       "  </tbody>\n",
       "</table>\n",
       "</div>"
      ],
      "text/plain": [
       "                   name post_cnt like_cnt  deg_cent   ev_cent\n",
       "0         h-o-r-n-g-r-y   137008        0       3.0  0.009726\n",
       "1           subliminous     1102     3378       3.0  0.003894\n",
       "2  pocketsquareclothing     3175       69       1.0  0.001322\n",
       "3             pictoturo    48854        0       2.0  0.001695\n",
       "4               f525252     9039     3184      11.0  0.067658"
      ]
     },
     "execution_count": 166,
     "metadata": {},
     "output_type": "execute_result"
    }
   ],
   "source": [
    "df.head()"
   ]
  },
  {
   "cell_type": "code",
   "execution_count": 168,
   "metadata": {
    "collapsed": false
   },
   "outputs": [
    {
     "data": {
      "text/html": [
       "<div>\n",
       "<table border=\"1\" class=\"dataframe\">\n",
       "  <thead>\n",
       "    <tr style=\"text-align: right;\">\n",
       "      <th></th>\n",
       "      <th>post_cnt</th>\n",
       "      <th>like_cnt</th>\n",
       "      <th>deg_cent</th>\n",
       "      <th>ev_cent</th>\n",
       "    </tr>\n",
       "  </thead>\n",
       "  <tbody>\n",
       "    <tr>\n",
       "      <th>count</th>\n",
       "      <td>166.000000</td>\n",
       "      <td>166.00000</td>\n",
       "      <td>166.000000</td>\n",
       "      <td>166.000000</td>\n",
       "    </tr>\n",
       "    <tr>\n",
       "      <th>mean</th>\n",
       "      <td>16563.403614</td>\n",
       "      <td>7443.46988</td>\n",
       "      <td>3.216867</td>\n",
       "      <td>0.022149</td>\n",
       "    </tr>\n",
       "    <tr>\n",
       "      <th>std</th>\n",
       "      <td>34522.494121</td>\n",
       "      <td>24644.16658</td>\n",
       "      <td>2.481682</td>\n",
       "      <td>0.070855</td>\n",
       "    </tr>\n",
       "    <tr>\n",
       "      <th>min</th>\n",
       "      <td>14.000000</td>\n",
       "      <td>-1.00000</td>\n",
       "      <td>1.000000</td>\n",
       "      <td>0.000409</td>\n",
       "    </tr>\n",
       "    <tr>\n",
       "      <th>25%</th>\n",
       "      <td>693.000000</td>\n",
       "      <td>15.50000</td>\n",
       "      <td>2.000000</td>\n",
       "      <td>0.001322</td>\n",
       "    </tr>\n",
       "    <tr>\n",
       "      <th>50%</th>\n",
       "      <td>2893.000000</td>\n",
       "      <td>471.00000</td>\n",
       "      <td>2.000000</td>\n",
       "      <td>0.002812</td>\n",
       "    </tr>\n",
       "    <tr>\n",
       "      <th>75%</th>\n",
       "      <td>13730.250000</td>\n",
       "      <td>3694.50000</td>\n",
       "      <td>4.000000</td>\n",
       "      <td>0.009120</td>\n",
       "    </tr>\n",
       "    <tr>\n",
       "      <th>max</th>\n",
       "      <td>244639.000000</td>\n",
       "      <td>215891.00000</td>\n",
       "      <td>14.000000</td>\n",
       "      <td>0.439705</td>\n",
       "    </tr>\n",
       "  </tbody>\n",
       "</table>\n",
       "</div>"
      ],
      "text/plain": [
       "            post_cnt      like_cnt    deg_cent     ev_cent\n",
       "count     166.000000     166.00000  166.000000  166.000000\n",
       "mean    16563.403614    7443.46988    3.216867    0.022149\n",
       "std     34522.494121   24644.16658    2.481682    0.070855\n",
       "min        14.000000      -1.00000    1.000000    0.000409\n",
       "25%       693.000000      15.50000    2.000000    0.001322\n",
       "50%      2893.000000     471.00000    2.000000    0.002812\n",
       "75%     13730.250000    3694.50000    4.000000    0.009120\n",
       "max    244639.000000  215891.00000   14.000000    0.439705"
      ]
     },
     "execution_count": 168,
     "metadata": {},
     "output_type": "execute_result"
    }
   ],
   "source": [
    "df[\"post_cnt\"] = df[\"post_cnt\"].astype(\"int\")\n",
    "df[\"like_cnt\"] = df[\"like_cnt\"].astype(\"int\")\n",
    "df.describe()"
   ]
  },
  {
   "cell_type": "code",
   "execution_count": 169,
   "metadata": {
    "collapsed": false
   },
   "outputs": [
    {
     "data": {
      "text/html": [
       "<div>\n",
       "<table border=\"1\" class=\"dataframe\">\n",
       "  <thead>\n",
       "    <tr style=\"text-align: right;\">\n",
       "      <th></th>\n",
       "      <th>name</th>\n",
       "      <th>post_cnt</th>\n",
       "      <th>like_cnt</th>\n",
       "      <th>deg_cent</th>\n",
       "      <th>ev_cent</th>\n",
       "    </tr>\n",
       "  </thead>\n",
       "  <tbody>\n",
       "    <tr>\n",
       "      <th>42</th>\n",
       "      <td>boredom-futility-failure-blog</td>\n",
       "      <td>193</td>\n",
       "      <td>-1</td>\n",
       "      <td>1.0</td>\n",
       "      <td>0.006820</td>\n",
       "    </tr>\n",
       "    <tr>\n",
       "      <th>134</th>\n",
       "      <td>womenwhobehaverarelymakehistory</td>\n",
       "      <td>3969</td>\n",
       "      <td>-1</td>\n",
       "      <td>1.0</td>\n",
       "      <td>0.001233</td>\n",
       "    </tr>\n",
       "    <tr>\n",
       "      <th>145</th>\n",
       "      <td>jvjproductions</td>\n",
       "      <td>23</td>\n",
       "      <td>-1</td>\n",
       "      <td>1.0</td>\n",
       "      <td>0.000441</td>\n",
       "    </tr>\n",
       "  </tbody>\n",
       "</table>\n",
       "</div>"
      ],
      "text/plain": [
       "                                name  post_cnt  like_cnt  deg_cent   ev_cent\n",
       "42     boredom-futility-failure-blog       193        -1       1.0  0.006820\n",
       "134  womenwhobehaverarelymakehistory      3969        -1       1.0  0.001233\n",
       "145                   jvjproductions        23        -1       1.0  0.000441"
      ]
     },
     "execution_count": 169,
     "metadata": {},
     "output_type": "execute_result"
    }
   ],
   "source": [
    "df[df.like_cnt == -1]"
   ]
  },
  {
   "cell_type": "markdown",
   "metadata": {},
   "source": [
    "## Reference\n",
    "  \n",
    "* https://github.com/tumblr/pytumblr  \n",
    "* https://stackoverflow.com/a/3277515/8066374  \n",
    "* https://networkx.github.io/documentation/networkx-1.10/  \n",
    "* Tsvetovat, Kouznetsov (2011). Social Network Analysis for Startups  \n",
    "* https://stackoverflow.com/questions/2844516/how-to-filter-a-dictionary-according-to-an-arbitrary-condition-function  \n",
    "* https://pandas.pydata.org/pandas-docs/stable/generated/pandas.DataFrame.html\n"
   ]
  },
  {
   "cell_type": "code",
   "execution_count": null,
   "metadata": {
    "collapsed": true
   },
   "outputs": [],
   "source": []
  }
 ],
 "metadata": {
  "kernelspec": {
   "display_name": "Python 2",
   "language": "python",
   "name": "python2"
  },
  "language_info": {
   "codemirror_mode": {
    "name": "ipython",
    "version": 2
   },
   "file_extension": ".py",
   "mimetype": "text/x-python",
   "name": "python",
   "nbconvert_exporter": "python",
   "pygments_lexer": "ipython2",
   "version": "2.7.13"
  }
 },
 "nbformat": 4,
 "nbformat_minor": 2
}
