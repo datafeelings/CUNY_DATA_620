{
 "cells": [
  {
   "cell_type": "markdown",
   "metadata": {},
   "source": [
    "## CUNY MSDA Fall 2017 Semester\n",
    "### DATA 620\n",
    "### Project 2:  Movie and User Similarity in the MovieLens Dataset\n",
    "By Dmitriy Vecheruk"
   ]
  },
  {
   "cell_type": "markdown",
   "metadata": {},
   "source": [
    "## Introduction and Summary"
   ]
  },
  {
   "cell_type": "markdown",
   "metadata": {},
   "source": [
    "**Course assignment**\n",
    "\n",
    "1) Identify a large 2-node network dataset—you can start with a dataset in a repository.  \n",
    "2) Your data should meet the criteria that it consists of ties between and not within two (or more) distinct groups.  \n",
    "3) Reduce the size of the network using a method such as the island method described in chapter 4 of social network analysis.  \n",
    "4) What can you infer about each of the distinct groups?\n",
    "\n",
    "**Summary of the findings**  \n",
    "  \n",
    "This analysis is investigating the MovieLens dataset:  \n",
    "These files contain 1,000,209 anonymous ratings of approximately 3,900 movies made by 6,040 MovieLens users who joined MovieLens in 2000.[1] \n",
    "\n",
    "The analysis consists of two parts.   \n",
    "The first part shows how a bipartite graph of users and their ratings of movies can be used in order to construct a similarity graph of movies. The resulting graph is intuitively understandable, as the degree corresponds to movie popularity among users, and edge weight between movies corresponds to the similarity between two films.   \n",
    "   \n",
    "The second part of the analysis is an attempt to identify groups of similar users by projecting the bipartite graph onto user nodes. However, this analysis has failed to discover any well-connected groups using the island method and testing for age and gender as possible predictors of increased similarity between users in terms of movie preferences.\n",
    "  \n",
    "Overall, the analysis also highlights the challenges typical to recommender systems - the very high number of possible user-item pairings in a very sparse matrix requiring either a reduction to the most frequently rated items (the approach followed in this analysis), or scaling up of the computation resources. \n"
   ]
  },
  {
   "cell_type": "markdown",
   "metadata": {},
   "source": [
    "## 1. Setup and acquire the data"
   ]
  },
  {
   "cell_type": "code",
   "execution_count": 473,
   "metadata": {
    "collapsed": false
   },
   "outputs": [],
   "source": [
    "# Setup: libraries and helper functions\n",
    "import os,urllib2,zipfile\n",
    "import networkx as net\n",
    "import networkx.algorithms.bipartite as bipartite\n",
    "import numpy as np\n",
    "import matplotlib.pyplot as plt\n",
    "import pandas as pd\n",
    "\n",
    "%matplotlib inline"
   ]
  },
  {
   "cell_type": "code",
   "execution_count": 299,
   "metadata": {
    "collapsed": true
   },
   "outputs": [],
   "source": [
    "# Helper functions to fetch, analyze and visualize the data\n",
    "\n",
    "def download_file(url, file_path):\n",
    "    \"\"\"Downloads a file from a given url into the provided local file\"\"\"\n",
    "    \n",
    "    try:\n",
    "        url_response = urllib2.urlopen(url)\n",
    "        with open(file_path, 'w') as f: f.write(url_response.read())\n",
    "        print \"Downloaded into {}\".format(file_path)\n",
    "   \n",
    "    except URLError as e:\n",
    "        if hasattr(e, 'reason'):\n",
    "            print 'We failed to reach a server.'\n",
    "            print 'Reason: ', e.reason\n",
    "        elif hasattr(e, 'code'):\n",
    "            print 'The server couldn\\'t fulfill the request.'\n",
    "            print 'Error code: ', e.code\n",
    "\n",
    "def unzip_file(zip_file, unzip_folder):\n",
    "    \"\"\"Extracts all contents of a zip file to a folder.\n",
    "    Based on: https://stackoverflow.com/a/3451150/8066374\"\"\"\n",
    "    \n",
    "    zip_ref = zipfile.ZipFile(zip_file, 'r')\n",
    "    zip_ref.extractall(unzip_folder)\n",
    "    zip_ref.close()\n",
    "\n",
    "def compute_graph_metrics(g):\n",
    "    \"\"\"Computes the basic node and edge counts as well as degree centrality measures\"\"\"\n",
    "    node_cnt = g.number_of_nodes()\n",
    "    edge_cnt = len(g.edges())\n",
    "    deg = g.degree()\n",
    "    degrees = sorted([v for (k,v) in deg.iteritems()]) \n",
    "    \n",
    "    return dict(\n",
    "    node_cnt = node_cnt,\n",
    "    edge_cnt = edge_cnt,\n",
    "    avg_degree = sum(degrees)/len(degrees),\n",
    "    min_degree = degrees[0],\n",
    "    max_degree = degrees[-1],\n",
    "    )\n",
    "\n",
    "def draw_weighted_graph(g,pos,weight_name,with_labels = True,node_size=300):\n",
    "    \"\"\"\n",
    "    Draws a graph with edges colored according to the weight_name edge attribute\n",
    "    Based on: https://stackoverflow.com/a/16544157/8066374\n",
    "    \"\"\"\n",
    "    edges,colors = zip(*net.get_edge_attributes(g,weight_name).items())\n",
    "\n",
    "    net.draw(g,pos = pos,edgelist=edges,edge_color=colors,width=1,alpha=.8,\n",
    "             with_labels = with_labels,font_size=10,font_family='Arial',font_weight='bold',\n",
    "            node_size=node_size);\n",
    "\n",
    "def trim_edges(g, weight=1): \n",
    "    \"\"\"\n",
    "    Trims the edges based on edge weight\n",
    "    Source: M. Tsvetovat, A. Kouznetsov (2011), Social Network Analysis for Startups \n",
    "    \"\"\"\n",
    "    g2=net.Graph()\n",
    "    for f, to, edata in g.edges(data=True): \n",
    "        if edata['weight'] > weight:\n",
    "            g2.add_edge(f,to,edata)\n",
    "    return g2\n",
    "\n",
    "def island_method(g, iterations=5):\n",
    "    weights= [edata['weight'] for f,to,edata in g.edges(data=True)]\n",
    "    mn=int(min(weights))\n",
    "    mx=int(max(weights))\n",
    "    #compute the size of the step, so we get a reasonable step in iterations \n",
    "    \n",
    "    step=int((mx-mn)/iterations)\n",
    "    return [[threshold, trim_edges(g, threshold)] for threshold in range(mn,mx,step)]"
   ]
  },
  {
   "cell_type": "code",
   "execution_count": 6,
   "metadata": {
    "collapsed": true
   },
   "outputs": [],
   "source": [
    "# Download the data\n",
    "file_url = \"http://files.grouplens.org/datasets/movielens/ml-1m.zip\"\n",
    "local_path = \"movielens-1m.zip\"\n",
    "\n",
    "if not os.path.isfile(local_path):\n",
    "    download_file(file_url, local_path)\n",
    "    unzip_file(local_path,\"data/\")    \n"
   ]
  },
  {
   "cell_type": "markdown",
   "metadata": {},
   "source": [
    "According to the codebook, the dataset consists of three text files with specific tabular formats:\n",
    "  \n",
    "* _ratings.dat_ Contains user-to-movie graph with weights on a 5-scale for each rating (UserID::MovieID::Rating::Timestamp)\n",
    "* _users.dat_ Contains the categorically encoded metadata on the users (UserID::Gender::Age::Occupation::Zip-code)  \n",
    "* _movies.dat_ Contains movie titles and genres (MovieID::Title::Genres)\n",
    "  \n",
    "There is a technical issue where the IDs of users and movies may coincide as both of them start at 1:  \n",
    "- UserIDs range between 1 and 6040  \n",
    "- MovieIDs range between 1 and 3952  \n",
    "  \n",
    "A simple fix is to add 'u' to user IDs and 'm' to movie IDs to keep each record unique."
   ]
  },
  {
   "cell_type": "code",
   "execution_count": 74,
   "metadata": {
    "collapsed": false
   },
   "outputs": [
    {
     "data": {
      "text/plain": [
       "[['u1', 'm1193', '5'],\n",
       " ['u1', 'm661', '3'],\n",
       " ['u1', 'm914', '3'],\n",
       " ['u1', 'm3408', '4'],\n",
       " ['u1', 'm2355', '5']]"
      ]
     },
     "execution_count": 74,
     "metadata": {},
     "output_type": "execute_result"
    }
   ],
   "source": [
    "# Read and inspect the data\n",
    "\n",
    "with open(\"data/ml-1m/ratings.dat\") as f:\n",
    "    inp_ratings = f.readlines()\n",
    "    inp_ratings = [item.strip().split('::') for item in inp_ratings]\n",
    "    # Add user and movie id modifiers and drop the timestamps\n",
    "    inp_ratings = [['u'+item[0], 'm'+item[1], item[2]] for item in inp_ratings]\n",
    "inp_ratings[:5]"
   ]
  },
  {
   "cell_type": "markdown",
   "metadata": {},
   "source": [
    "We can see at the top of the parsed ratings file a list of ratings from user 1 for multiple movies."
   ]
  },
  {
   "cell_type": "markdown",
   "metadata": {},
   "source": [
    "## 2. Build the initial graph and inspect it\n",
    "Now we can build the initial bipartite graph and inspect its properties"
   ]
  },
  {
   "cell_type": "code",
   "execution_count": 130,
   "metadata": {
    "collapsed": false
   },
   "outputs": [],
   "source": [
    "B = net.Graph()\n",
    "B.add_nodes_from([item[0] for item in inp_ratings], bipartite=0, node_type=\"user\") \n",
    "B.add_nodes_from([item[1] for item in inp_ratings], bipartite=1, node_type=\"movie\")\n",
    "B.add_weighted_edges_from([(item[0], item[1], int(item[2])) for item in inp_ratings],weight=\"weight\")"
   ]
  },
  {
   "cell_type": "code",
   "execution_count": 97,
   "metadata": {
    "collapsed": false
   },
   "outputs": [
    {
     "data": {
      "text/plain": [
       "True"
      ]
     },
     "execution_count": 97,
     "metadata": {},
     "output_type": "execute_result"
    }
   ],
   "source": [
    "# Test if the graph is bipartite\n",
    "net.is_bipartite(B)"
   ]
  },
  {
   "cell_type": "code",
   "execution_count": 106,
   "metadata": {
    "collapsed": false
   },
   "outputs": [],
   "source": [
    "user_nodes, movie_nodes = bipartite.sets(B)"
   ]
  },
  {
   "cell_type": "code",
   "execution_count": 150,
   "metadata": {
    "collapsed": false
   },
   "outputs": [],
   "source": [
    "deg = B.degree()\n",
    "rating_cnts = sorted([v for (k,v) in deg.iteritems() if k.startswith(\"u\") ]) # only user nodes\n",
    "reviewer_cnts = sorted([v for (k,v) in deg.iteritems() if k.startswith(\"m\") ]) # only movie nodes\n",
    "weights = [d[\"weight\"] for (u,v,d) in B.edges(data=True)] # rating scores"
   ]
  },
  {
   "cell_type": "code",
   "execution_count": 107,
   "metadata": {
    "collapsed": false
   },
   "outputs": [
    {
     "name": "stdout",
     "output_type": "stream",
     "text": [
      "The initial graph contains: 9746 nodes, out of which: \n",
      "    6040 are user nodes, \n",
      "    3706 are movie nodes.\n",
      "The graph has 1000209 edges in total.\n",
      "\n"
     ]
    }
   ],
   "source": [
    "print \"\"\"The initial graph contains: {} nodes, out of which: \n",
    "    {} are user nodes, \n",
    "    {} are movie nodes.\n",
    "The graph has {} edges in total.\n",
    "\"\"\".format(len(B.nodes()),len(user_nodes),len(movie_nodes),len(B.edges()))"
   ]
  },
  {
   "cell_type": "code",
   "execution_count": 126,
   "metadata": {
    "collapsed": false
   },
   "outputs": [
    {
     "name": "stdout",
     "output_type": "stream",
     "text": [
      "Count of ratings by user: \n",
      "    min: 20, max: 2314\n",
      "Count of ratings per movie:\n",
      "    min: 1, max: 3428\n"
     ]
    }
   ],
   "source": [
    "print \"\"\"Count of ratings by user: \n",
    "    min: {}, max: {}\n",
    "Count of ratings per movie:\n",
    "    min: {}, max: {}\"\"\".format(rating_cnts[0], rating_cnts[-1],reviewer_cnts[0], reviewer_cnts[-1]) "
   ]
  },
  {
   "cell_type": "code",
   "execution_count": 380,
   "metadata": {
    "collapsed": false
   },
   "outputs": [
    {
     "data": {
      "image/png": "[encoded data removed]",
      "text/plain": [
       "<matplotlib.figure.Figure at 0x213d23bd0>"
      ]
     },
     "metadata": {},
     "output_type": "display_data"
    }
   ],
   "source": [
    "# Plot histograms\n",
    "f, axarr = plt.subplots(1,3,figsize=(15,5))\n",
    "axarr[0].hist(rating_cnts);\n",
    "axarr[0].set_title('Count of ratings per user');\n",
    "axarr[1].hist(reviewer_cnts);\n",
    "axarr[1].set_title('Count of reviews per film');\n",
    "axarr[2].hist(weights);\n",
    "axarr[2].set_title('Rating score distribution');"
   ]
  },
  {
   "cell_type": "markdown",
   "metadata": {},
   "source": [
    "Given the large number of edges, and the fact that each user has rated at least 20 films, we will limit the bipartite graph only to the edges with a **rating score of 5** (the highest rating), so as to focus on the movies the users liked. This would enable us to build a clearer picture of association between movies based on user ratings and of users based on shared movie preferences."
   ]
  },
  {
   "cell_type": "code",
   "execution_count": 221,
   "metadata": {
    "collapsed": false
   },
   "outputs": [],
   "source": [
    "high_rating = [(u,v,d) for (u,v,d) in B.edges(data=True) if d[\"weight\"]==5]\n",
    "B_filtered = net.Graph(high_rating)"
   ]
  },
  {
   "cell_type": "code",
   "execution_count": 222,
   "metadata": {
    "collapsed": false
   },
   "outputs": [],
   "source": [
    "user_nodes_filt, movie_nodes_filt = bipartite.sets(B_filtered)"
   ]
  },
  {
   "cell_type": "code",
   "execution_count": 223,
   "metadata": {
    "collapsed": false
   },
   "outputs": [
    {
     "name": "stdout",
     "output_type": "stream",
     "text": [
      "The filtered graph contains: 9246 nodes, out of which: \n",
      "    6014 are user nodes, \n",
      "    3232 are movie nodes.\n",
      "The graph has 226310 edges in total.\n",
      "\n"
     ]
    }
   ],
   "source": [
    "print \"\"\"The filtered graph contains: {} nodes, out of which: \n",
    "    {} are user nodes, \n",
    "    {} are movie nodes.\n",
    "The graph has {} edges in total.\n",
    "\"\"\".format(len(B_filtered.nodes()),len(user_nodes_filt),len(movie_nodes_filt),len(B_filtered.edges()))"
   ]
  },
  {
   "cell_type": "markdown",
   "metadata": {},
   "source": [
    "We can see that while the number of users has decreased insignificantly, the number of edges to consider has been reduced to a quarter of the the original value. Now we can proceed to projecting the graphs into the space of movies and users."
   ]
  },
  {
   "cell_type": "markdown",
   "metadata": {
    "collapsed": true
   },
   "source": [
    "### 3. Investigate the affiliation between movies\n",
    "  \n",
    "We will project the graph onto movie nodes building an edge between two movies every time a user has provided a positive rating (from our filtered bipartite graph) to both of them. This way, movies that get positive reviews from multiple users should become connected with each other.  \n",
    "The weight of the edge between two movies will equal the number of users who gave a positive rating to both of the movies. "
   ]
  },
  {
   "cell_type": "code",
   "execution_count": 224,
   "metadata": {
    "collapsed": true
   },
   "outputs": [],
   "source": [
    "M = bipartite.weighted_projected_graph(B_filtered, movie_nodes_filt)"
   ]
  },
  {
   "cell_type": "code",
   "execution_count": 225,
   "metadata": {
    "collapsed": false
   },
   "outputs": [
    {
     "data": {
      "text/plain": [
       "{'avg_degree': 1047,\n",
       " 'edge_cnt': 1693544,\n",
       " 'max_degree': 2890,\n",
       " 'min_degree': 0,\n",
       " 'node_cnt': 3232}"
      ]
     },
     "execution_count": 225,
     "metadata": {},
     "output_type": "execute_result"
    }
   ],
   "source": [
    "compute_graph_metrics(M)"
   ]
  },
  {
   "cell_type": "markdown",
   "metadata": {},
   "source": [
    "As displayed above, the graph of movies has a very large number of edges due to the many combinations of users and movies they have reviewed.  \n",
    "It would make sense to only focus on the edges (representing movie similarity) that have been validated by at least *n* users.\n",
    "\n",
    "We can then focus on the largest connected component, and separate it further using the island method described in the course book to identify the most affiliated movies."
   ]
  },
  {
   "cell_type": "code",
   "execution_count": 434,
   "metadata": {
    "collapsed": true
   },
   "outputs": [],
   "source": [
    "# Identify the threshold for the more validated edges\n",
    "\n",
    "M_weights = [d[\"weight\"] for (u,v,d) in M.edges(data=True)] # weight = number of users who rated both movies\n"
   ]
  },
  {
   "cell_type": "code",
   "execution_count": null,
   "metadata": {
    "collapsed": false
   },
   "outputs": [],
   "source": [
    "M_weights = np.array(M_weights)\n",
    "quantiles = [0,25,50,75,100]\n",
    "M_weights_pct = dict(zip(quantiles,list(np.percentile(M_weights, quantiles))))\n",
    "print M_weights_pct"
   ]
  },
  {
   "cell_type": "markdown",
   "metadata": {},
   "source": [
    "We can see that only 50% of movies have at least two shared users, and 25% have more than five. We will focus the subset with at least five shared positive ratings, as such observations are more valid."
   ]
  },
  {
   "cell_type": "code",
   "execution_count": 277,
   "metadata": {
    "collapsed": false
   },
   "outputs": [],
   "source": [
    "M_trimmed = trim_edges(M, weight=4)\n",
    "\n",
    "# Reduce the size using the island method\n",
    "M_cc = list(net.connected_component_subgraphs(M_trimmed))[0] # extract the largest connected component"
   ]
  },
  {
   "cell_type": "code",
   "execution_count": 278,
   "metadata": {
    "collapsed": false
   },
   "outputs": [
    {
     "name": "stdout",
     "output_type": "stream",
     "text": [
      "5 2073 1\n",
      "143 226 1\n",
      "281 81 2\n",
      "419 37 1\n",
      "557 19 1\n",
      "695 10 2\n",
      "833 3 1\n",
      "971 2 1\n",
      "1109 2 1\n"
     ]
    }
   ],
   "source": [
    "islands = island_method(M_cc, iterations=8)\n",
    "for i in islands:\n",
    "    # print the threshold level, size of the graph, and number of connected components ... \n",
    "    print i[0], len(i[1]), len(list(net.connected_component_subgraphs(i[1])))"
   ]
  },
  {
   "cell_type": "markdown",
   "metadata": {},
   "source": [
    "We can see that all the movies seem to be well-connected, and trimming at various levels only provides two separate components at the threshold of 281 leaving 81 nodes in total.\n",
    "We pick this threshold level to visualize the structure:"
   ]
  },
  {
   "cell_type": "code",
   "execution_count": 429,
   "metadata": {
    "collapsed": false
   },
   "outputs": [
    {
     "data": {
      "image/png": "[encoded data removed]",
      "text/plain": [
       "<matplotlib.figure.Figure at 0x21acf6bd0>"
      ]
     },
     "metadata": {},
     "output_type": "display_data"
    }
   ],
   "source": [
    "m_result = islands[2][1]\n",
    "plt.figure(1,figsize=(6,4)) \n",
    "pos=net.spring_layout(m_result,weight='weight', scale=30)\n",
    "draw_weighted_graph(m_result,pos,weight_name=\"weight\",with_labels=False,node_size=5)\n",
    "plt.show()"
   ]
  },
  {
   "cell_type": "code",
   "execution_count": 337,
   "metadata": {
    "collapsed": false
   },
   "outputs": [
    {
     "data": {
      "text/plain": [
       "[('m3548', 'Auntie Mame (1958)'),\n",
       " ('m2488', 'Peeping Tom (1960)'),\n",
       " ('m3239', \"Isn't She Great? (2000)\"),\n",
       " ('m1722', 'Tomorrow Never Dies (1997)'),\n",
       " ('m1723', 'Twisted (1996)')]"
      ]
     },
     "execution_count": 337,
     "metadata": {},
     "output_type": "execute_result"
    }
   ],
   "source": [
    "# Read the names of the movies\n",
    "with open(\"data/ml-1m/movies.dat\") as f:\n",
    "    inp_movies = f.readlines()\n",
    "    inp_movies = [item.strip().split('::') for item in inp_movies]\n",
    "    # Add user and movie id modifiers and drop the timestamps\n",
    "    inp_movies = [['m'+item[0], item[1], item[2]] for item in inp_movies] # adjust the ids\n",
    "    inp_movies = dict([(item[0],item[1]) for item in inp_movies]) # convert to dict\n",
    "inp_movies.items()[:5]"
   ]
  },
  {
   "cell_type": "code",
   "execution_count": 338,
   "metadata": {
    "collapsed": false
   },
   "outputs": [],
   "source": [
    "# Add titles to the movies in the result graph\n",
    "for i in m_result.nodes():\n",
    "    m_result.node[i][\"title\"] =  inp_movies[i]"
   ]
  },
  {
   "cell_type": "code",
   "execution_count": 339,
   "metadata": {
    "collapsed": false
   },
   "outputs": [
    {
     "data": {
      "text/plain": [
       "[('m296', {'title': 'Pulp Fiction (1994)'}),\n",
       " ('m1219', {'title': 'Psycho (1960)'}),\n",
       " ('m2396', {'title': 'Shakespeare in Love (1998)'}),\n",
       " ('m1089', {'title': 'Reservoir Dogs (1992)'}),\n",
       " ('m541', {'title': 'Blade Runner (1982)'})]"
      ]
     },
     "execution_count": 339,
     "metadata": {},
     "output_type": "execute_result"
    }
   ],
   "source": [
    "m_result.nodes(data=True)[:5]"
   ]
  },
  {
   "cell_type": "code",
   "execution_count": 307,
   "metadata": {
    "collapsed": true
   },
   "outputs": [],
   "source": [
    "net.write_gexf(m_result,\"m_result.gexf\")"
   ]
  },
  {
   "cell_type": "markdown",
   "metadata": {},
   "source": [
    "Now we can:   \n",
    "  \n",
    "1) visually inspect the relationships between the movies in the resulting graph  \n",
    "2) get the popularity ranking of the movies in the resulting graph \n",
    "\n",
    "First, we'll investigate the two connected components in the graph."
   ]
  },
  {
   "cell_type": "code",
   "execution_count": 342,
   "metadata": {
    "collapsed": true
   },
   "outputs": [],
   "source": [
    "net.write_gexf(m_result,\"m_result.gexf\")"
   ]
  },
  {
   "cell_type": "markdown",
   "metadata": {},
   "source": [
    "The island method has returned two components: a small one containing two films, and a large one, containing the rest.\n",
    "Inspecting the small component we see two animation films about Wallice and Grommit (the third movie from the trilogy was not in the filtered data set), and the large component is dominated by Hollywood blockbusters such as Star Wars, Godfather, and American Beauty. "
   ]
  },
  {
   "cell_type": "code",
   "execution_count": 391,
   "metadata": {
    "collapsed": false
   },
   "outputs": [
    {
     "data": {
      "image/png": "[encoded data removed]",
      "text/plain": [
       "<matplotlib.figure.Figure at 0x216e4a450>"
      ]
     },
     "metadata": {},
     "output_type": "display_data"
    }
   ],
   "source": [
    "\n",
    "movies_small = list(net.connected_component_subgraphs(m_result))[1]\n",
    "movies_large = list(net.connected_component_subgraphs(m_result))[0]\n",
    "\n",
    "# Small component\n",
    "plt.figure(1,figsize=(10,3)) \n",
    "pos = net.spectral_layout(movies_small,scale=0.01)\n",
    "labs= net.get_node_attributes(movies_small, 'title')\n",
    "draw_weighted_graph(movies_small,pos,weight_name=\"weight\",with_labels=False,node_size=20)\n",
    "net.draw_networkx_labels(movies_small,pos = pos, labels=labs);\n",
    "plt.title(\"Similar Movies: Small Component\")\n",
    "plt.show()"
   ]
  },
  {
   "cell_type": "markdown",
   "metadata": {},
   "source": [
    "As is is difficult to layout graphs using Matplotlib, here is a visualization of the large component that has been cleaned up in Gephi:"
   ]
  },
  {
   "cell_type": "markdown",
   "metadata": {},
   "source": [
    "![](movies_large.png)"
   ]
  },
  {
   "cell_type": "markdown",
   "metadata": {},
   "source": [
    "We can see that Star Wars, Godfather, Raiders of the Lost Ark, and American Beauty are the films that have the highest degree (seen and rated by most people) and the highest edge weight (rated positively by most users).  \n",
    "In order to validate this, below is a top-10 list of movies by descending weighted degree centrality:"
   ]
  },
  {
   "cell_type": "code",
   "execution_count": 404,
   "metadata": {
    "collapsed": false
   },
   "outputs": [
    {
     "name": "stdout",
     "output_type": "stream",
     "text": [
      "Star Wars: Episode IV - A New Hope (1977)\n",
      "American Beauty (1999)\n",
      "Godfather, The (1972)\n",
      "Raiders of the Lost Ark (1981)\n",
      "Star Wars: Episode V - The Empire Strikes Back (1980)\n",
      "Shawshank Redemption, The (1994)\n",
      "Matrix, The (1999)\n",
      "Silence of the Lambs, The (1991)\n",
      "Schindler's List (1993)\n",
      "Saving Private Ryan (1998)\n"
     ]
    }
   ],
   "source": [
    "m_l_deg = movies_large.degree(weight=\"weight\")\n",
    "m_l_top10 = sorted(m_l_deg.items(), key=lambda x: x[1],reverse=True)[:10]\n",
    "for item in m_l_top10: print inp_movies[item[0]] "
   ]
  },
  {
   "cell_type": "markdown",
   "metadata": {},
   "source": [
    "In addition, we can get top-10 most co-rated films (which would form best recommendations for popular movies to watch):"
   ]
  },
  {
   "cell_type": "code",
   "execution_count": 418,
   "metadata": {
    "collapsed": false
   },
   "outputs": [
    {
     "name": "stdout",
     "output_type": "stream",
     "text": [
      "Star Wars: Episode V - The Empire Strikes Back (1980) - Star Wars: Episode IV - A New Hope (1977)\n",
      "Raiders of the Lost Ark (1981) - Star Wars: Episode IV - A New Hope (1977)\n",
      "Raiders of the Lost Ark (1981) - Star Wars: Episode V - The Empire Strikes Back (1980)\n",
      "Godfather: Part II, The (1974) - Godfather, The (1972)\n",
      "Star Wars: Episode IV - A New Hope (1977) - Matrix, The (1999)\n",
      "Star Wars: Episode IV - A New Hope (1977) - Star Wars: Episode VI - Return of the Jedi (1983)\n",
      "Star Wars: Episode V - The Empire Strikes Back (1980) - Star Wars: Episode VI - Return of the Jedi (1983)\n",
      "Star Wars: Episode IV - A New Hope (1977) - Godfather, The (1972)\n",
      "American Beauty (1999) - Shawshank Redemption, The (1994)\n",
      "Schindler's List (1993) - Shawshank Redemption, The (1994)\n"
     ]
    }
   ],
   "source": [
    "m_l_edgewt = net.get_edge_attributes(movies_large,\"weight\").items()\n",
    "m_l_top10_edges = sorted(m_l_edgewt, key=lambda x: x[1],reverse=True)[:10]\n",
    "for item in m_l_top10_edges: \n",
    "    print inp_movies[item[0][0]] + \" - \" + inp_movies[item[0][1]]"
   ]
  },
  {
   "cell_type": "markdown",
   "metadata": {},
   "source": [
    "Here we can see that among the most popular movies, the strongest ties appear within movies of the same series and/or genre (e.g. adventure, science fiction with *Star Wars*, *Indiana Jones*, and *The Matrix*, as well as dramatic movies such as *American Beauty*, *Shawshank Redemption*, and *Schindler's List*).  \n",
    "Surprizingly, *The Godfather* seems to have more in common (in terms of viewer preference) with *Star Wars* than with the popular dramatic movies.\n"
   ]
  },
  {
   "cell_type": "markdown",
   "metadata": {},
   "source": [
    "### 4. Investigate the affiliation between users\n",
    "  \n",
    "Now we will project our filtered bipartite graph onto user nodes building an edge between two users every time they have rated the same movie positively. This way, users that have similar likes will be tied together.\n",
    "The weight of the edge between two users will equal the number of movies they both rated positively, thus indicating a strength of the match between individual movie tastes.  \n",
    "After the user graph is built, we can investigate connected components within it to see if any distinct groups of users can be discerned."
   ]
  },
  {
   "cell_type": "code",
   "execution_count": 430,
   "metadata": {
    "collapsed": true
   },
   "outputs": [],
   "source": [
    "U = bipartite.weighted_projected_graph(B_filtered, user_nodes_filt)"
   ]
  },
  {
   "cell_type": "code",
   "execution_count": 432,
   "metadata": {
    "collapsed": false
   },
   "outputs": [
    {
     "data": {
      "text/plain": [
       "{'avg_degree': 3873,\n",
       " 'edge_cnt': 11646972,\n",
       " 'max_degree': 5964,\n",
       " 'min_degree': 0,\n",
       " 'node_cnt': 6014}"
      ]
     },
     "execution_count": 432,
     "metadata": {},
     "output_type": "execute_result"
    }
   ],
   "source": [
    "compute_graph_metrics(U)"
   ]
  },
  {
   "cell_type": "markdown",
   "metadata": {},
   "source": [
    "As displayed above, the graph of users has a very large number of edges (11 Mln.) due to the many combinations of users and movies they have reviewed (mainly due to the fact that a lot of users have reviewed at least one popular movie).\n",
    "It would make sense to only focus on the edges (representing user similarity) that have been validated by at least *n* movies in common.  \n",
    "We can then focus on the largest connected component, and separate it further using the island method described in the course book to identify the most affiliated users."
   ]
  },
  {
   "cell_type": "code",
   "execution_count": 437,
   "metadata": {
    "collapsed": false
   },
   "outputs": [
    {
     "name": "stdout",
     "output_type": "stream",
     "text": [
      "{0: 1.0, 25: 1.0, 50: 2.0, 75: 5.0, 100: 223.0}\n"
     ]
    }
   ],
   "source": [
    "# Identify the threshold for the more validated edges\n",
    "\n",
    "U_weights = [d[\"weight\"] for (u,v,d) in U.edges(data=True)] # weight = number of users who rated both movies\n",
    "U_weights = np.array(U_weights)\n",
    "quantiles = [0,25,50,75,100]\n",
    "U_weights_pct = dict(zip(quantiles,list(np.percentile(U_weights, quantiles))))\n",
    "print U_weights_pct"
   ]
  },
  {
   "cell_type": "markdown",
   "metadata": {},
   "source": [
    "We can see that only 50% of users have at least two shared movies, and 75% five or more. We will focus the subset with at least **ten** shared positively rated movies, as such observations are more valid for judging the similarity in the taste between users."
   ]
  },
  {
   "cell_type": "code",
   "execution_count": 442,
   "metadata": {
    "collapsed": false
   },
   "outputs": [],
   "source": [
    "# Exclude the edges with the weight above the treshold\n",
    "U_trimmed = trim_edges(U, weight=9)\n",
    "\n",
    "# Reduce the size using the island method\n",
    "U_ccs = list(net.connected_component_subgraphs(U_trimmed)) # all connected components\n",
    "U_cc = U_ccs[0] # extract the largest connected component"
   ]
  },
  {
   "cell_type": "code",
   "execution_count": 443,
   "metadata": {
    "collapsed": false
   },
   "outputs": [
    {
     "data": {
      "text/plain": [
       "1"
      ]
     },
     "execution_count": 443,
     "metadata": {},
     "output_type": "execute_result"
    }
   ],
   "source": [
    "# Inspect the connected components\n",
    "len(U_ccs)"
   ]
  },
  {
   "cell_type": "code",
   "execution_count": 444,
   "metadata": {
    "collapsed": false
   },
   "outputs": [
    {
     "data": {
      "text/plain": [
       "{'avg_degree': 482,\n",
       " 'edge_cnt': 1048500,\n",
       " 'max_degree': 3807,\n",
       " 'min_degree': 1,\n",
       " 'node_cnt': 4347}"
      ]
     },
     "execution_count": 444,
     "metadata": {},
     "output_type": "execute_result"
    }
   ],
   "source": [
    "compute_graph_metrics(U_trimmed)"
   ]
  },
  {
   "cell_type": "markdown",
   "metadata": {},
   "source": [
    "We see that after the edge trimming, a single large connected component remains with approx. 1 mln. edges among 4347 users. Now we can try to break it into groups using the island method:"
   ]
  },
  {
   "cell_type": "code",
   "execution_count": 445,
   "metadata": {
    "collapsed": false
   },
   "outputs": [
    {
     "name": "stdout",
     "output_type": "stream",
     "text": [
      "10 4109 1\n",
      "36 1143 1\n",
      "62 389 1\n",
      "88 142 1\n",
      "114 58 1\n",
      "140 24 1\n",
      "166 11 1\n",
      "192 5 1\n",
      "218 2 1\n"
     ]
    }
   ],
   "source": [
    "islands1 = island_method(U_cc, iterations=8)\n",
    "for i in islands1:\n",
    "    # print the threshold level, size of the graph, and number of connected components ... \n",
    "    print i[0], len(i[1]), len(list(net.connected_component_subgraphs(i[1])))"
   ]
  },
  {
   "cell_type": "markdown",
   "metadata": {},
   "source": [
    "We can see that all the users seem to be well-connected, and trimming at various levels only provides a single component at all levels. We will pick the degree level of 36 leaving 1143 users with higher number of jointly rated movies to visualize the structure:"
   ]
  },
  {
   "cell_type": "code",
   "execution_count": 460,
   "metadata": {
    "collapsed": false
   },
   "outputs": [
    {
     "data": {
      "image/png": "[encoded data removed]",
      "text/plain": [
       "<matplotlib.figure.Figure at 0x21a8f4210>"
      ]
     },
     "metadata": {},
     "output_type": "display_data"
    }
   ],
   "source": [
    "u_result = islands1[2][1]\n",
    "plt.figure(1,figsize=(10,6)) \n",
    "pos=net.spring_layout(u_result, scale=10)\n",
    "draw_weighted_graph(u_result,pos,weight_name=\"weight\",with_labels=False,node_size=5)\n",
    "plt.show()"
   ]
  },
  {
   "cell_type": "markdown",
   "metadata": {},
   "source": [
    "While it is difficult to see the graph details in a Matplotlib visualization, it becomes apparent that the connected component of users has a core and some outer nodes only connected to a few members of the core. These nodes could indicate a different user profile, as their preferences are more specific than that of the core.  \n",
    "We will investigate this by adding user attributes to the nodes (Gender, Age) and visualizing the edge weight per group of nodes with the same attributes."
   ]
  },
  {
   "cell_type": "code",
   "execution_count": 462,
   "metadata": {
    "collapsed": false
   },
   "outputs": [
    {
     "data": {
      "text/plain": [
       "[('u1810', ['M', '50', '13']),\n",
       " ('u1811', ['M', '56', '2']),\n",
       " ('u1812', ['F', '25', '12']),\n",
       " ('u1813', ['F', '35', '6']),\n",
       " ('u1814', ['M', '50', '7'])]"
      ]
     },
     "execution_count": 462,
     "metadata": {},
     "output_type": "execute_result"
    }
   ],
   "source": [
    "# Read the attributes of the users (the schema is UserID::Gender::Age::Occupation::Zip-code)\n",
    "with open(\"data/ml-1m/users.dat\") as f:\n",
    "    inp_users = f.readlines()\n",
    "    inp_users = [item.strip().split('::') for item in inp_users]\n",
    "    # Add user and movie id modifiers and drop the timestamps\n",
    "    inp_users = [['u'+item[0], item[1], item[2], item[3]] for item in inp_users] # adjust the ids\n",
    "    inp_users = dict([(item[0],[item[1],item[2], item[3]]) for item in inp_users]) # convert to dict\n",
    "inp_users.items()[:5]"
   ]
  },
  {
   "cell_type": "code",
   "execution_count": 465,
   "metadata": {
    "collapsed": false
   },
   "outputs": [],
   "source": [
    "# Add attributes to the users in the result graph\n",
    "for i in u_result.nodes():\n",
    "    u_result.node[i][\"Gender\"] =  inp_users[i][0]\n",
    "    u_result.node[i][\"Age\"] =  inp_users[i][1]\n",
    "    u_result.node[i][\"Occupation\"] =  inp_users[i][2]"
   ]
  },
  {
   "cell_type": "code",
   "execution_count": 466,
   "metadata": {
    "collapsed": false
   },
   "outputs": [
    {
     "data": {
      "text/plain": [
       "[('u5847',\n",
       "  {'Age': '18',\n",
       "   'Attributes': ['F', '18', '4'],\n",
       "   'Gender': 'F',\n",
       "   'Occupation': '4'}),\n",
       " ('u1812',\n",
       "  {'Age': '25',\n",
       "   'Attributes': ['F', '25', '12'],\n",
       "   'Gender': 'F',\n",
       "   'Occupation': '12'}),\n",
       " ('u5511',\n",
       "  {'Age': '45',\n",
       "   'Attributes': ['M', '45', '1'],\n",
       "   'Gender': 'M',\n",
       "   'Occupation': '1'}),\n",
       " ('u5841',\n",
       "  {'Age': '35',\n",
       "   'Attributes': ['F', '35', '7'],\n",
       "   'Gender': 'F',\n",
       "   'Occupation': '7'}),\n",
       " ('u5517',\n",
       "  {'Age': '56',\n",
       "   'Attributes': ['M', '56', '0'],\n",
       "   'Gender': 'M',\n",
       "   'Occupation': '0'})]"
      ]
     },
     "execution_count": 466,
     "metadata": {},
     "output_type": "execute_result"
    }
   ],
   "source": [
    "u_result.nodes(data = True)[:5]"
   ]
  },
  {
   "cell_type": "code",
   "execution_count": 470,
   "metadata": {
    "collapsed": false
   },
   "outputs": [],
   "source": [
    "#net.write_gexf(u_result,\"u_result.gexf\")\n",
    "net.write_gml(u_result,\"u_result.gml\")"
   ]
  },
  {
   "cell_type": "markdown",
   "metadata": {},
   "source": [
    "According to the codebook, the ages are encoded as follows:\n",
    "  \n",
    "*  1:  \"Under 18\"\n",
    "* 18:  \"18-24\"\n",
    "* 25:  \"25-34\"\n",
    "* 35:  \"35-44\"\n",
    "* 45:  \"45-49\"\n",
    "* 50:  \"50-55\"\n",
    "* 56:  \"56+\"\n"
   ]
  },
  {
   "cell_type": "code",
   "execution_count": 495,
   "metadata": {
    "collapsed": false
   },
   "outputs": [],
   "source": [
    "# Filter to the graphs of younger people (Aged from under 18 to up to 25)\n",
    "u_younger = [item[0] for item in u_result.nodes(data=True) if ((item[1]['Age'] == '18') | (item[1]['Age'] == '1'))]\n",
    "u_middle = [item for item in u_result.nodes(data=True) if ((item[1]['Age'] == '25') | (item[1]['Age'] == '35'))]\n",
    "u_older = [item for item in u_result.nodes(data=True) if ((item not in u_younger) & (item not in u_middle))]"
   ]
  },
  {
   "cell_type": "code",
   "execution_count": 510,
   "metadata": {
    "collapsed": false
   },
   "outputs": [],
   "source": [
    "u_younger = u_result.subgraph( [n for n,attrdict in u_result.node.items() if ((attrdict['Age'] == '18') |(attrdict['Age'] == '1'))] )\n",
    "u_middle = u_result.subgraph( [n for n,attrdict in u_result.node.items() if ((attrdict['Age'] == '25') |(attrdict['Age'] == '35'))] )\n",
    "u_older = u_result.subgraph( [n for n,attrdict in u_result.node.items() if (attrdict['Age'] not in ['1','18','25','35'])] )"
   ]
  },
  {
   "cell_type": "code",
   "execution_count": 544,
   "metadata": {
    "collapsed": false
   },
   "outputs": [],
   "source": [
    "# Extract weight distributions\n",
    "u_all_wt = [d[\"weight\"] for (u,v,d) in u_result.edges(data=True)]\n",
    "u_younger_wt = [d[\"weight\"] for (u,v,d) in u_younger.edges(data=True)]\n",
    "u_middle_wt = [d[\"weight\"] for (u,v,d) in u_middle.edges(data=True)]\n",
    "u_older_wt = [d[\"weight\"] for (u,v,d) in u_older.edges(data=True)]"
   ]
  },
  {
   "cell_type": "code",
   "execution_count": 545,
   "metadata": {
    "collapsed": false
   },
   "outputs": [
    {
     "data": {
      "image/png": "[encoded data removed]",
      "text/plain": [
       "<matplotlib.figure.Figure at 0x1bc4dc310>"
      ]
     },
     "metadata": {},
     "output_type": "display_data"
    }
   ],
   "source": [
    "# Compare the edge weight distributions using boxplots\n",
    "\n",
    "f, axarr = plt.subplots(1,4, sharey=True,figsize=(15,5))\n",
    "plt.ylim(ymin=40, ymax=140) # limit outliers\n",
    "axarr[0].boxplot(u_younger_wt,);\n",
    "axarr[0].set_title('Viewer Age under 24 years');\n",
    "axarr[1].boxplot(u_middle_wt);\n",
    "axarr[1].set_title('Viewer Age 25-44 years')\n",
    "axarr[2].boxplot(u_older_wt);\n",
    "axarr[2].set_title('Viewer Age 45+ years')\n",
    "axarr[3].boxplot(u_all_wt);\n",
    "axarr[3].set_title('Full dataset');"
   ]
  },
  {
   "cell_type": "code",
   "execution_count": 548,
   "metadata": {
    "collapsed": false
   },
   "outputs": [
    {
     "name": "stdout",
     "output_type": "stream",
     "text": [
      "Median edge weights: [72.0, 73.0, 74.0, 73.0]\n"
     ]
    }
   ],
   "source": [
    "# Print the medians\n",
    "print \"Median edge weights: {}\".format([np.median(item) for item in [u_younger_wt, u_middle_wt, u_older_wt,u_all_wt]])"
   ]
  },
  {
   "cell_type": "markdown",
   "metadata": {},
   "source": [
    "We can see from the boxplots that while the distributions of the edge weights vary in range across age groups, \n",
    "the median values for the edge weight remain the same, indicating that age alone is not a sufficient indicator of a similar taste in films.  \n",
    "Same tests for gender produced similar results.  \n",
    "The interpretation of this finding is that popular movies have a broad demographic appeal across ages and genders."
   ]
  },
  {
   "cell_type": "markdown",
   "metadata": {
    "collapsed": true
   },
   "source": [
    "### 5. Outlook\n",
    "  \n",
    "Further analyses on the The MovieLens dataset could deepen the inquiry in multiple directions:\n",
    "  \n",
    "a) Include somewhat less favorably rated items into the projected movie graph  \n",
    "b) Use a different heuristic for defining the edge weight between movies or users (e.g. normalizing for the average rating given by each user to the movies in their selection, or excluding the users with extremely high numbers of rated films)  \n",
    "c) Using more complex measures of graph structure analysis such as modularity to detect connected clusers/communities  \n",
    "d) Using further node metadata (genre of movies, occupation of users) when analyzing the similarity in the respective unipartite graphs"
   ]
  },
  {
   "cell_type": "markdown",
   "metadata": {},
   "source": [
    "### Reference\n",
    "1) F. Maxwell Harper and Joseph A. Konstan. 2015. The MovieLens Datasets: History and Context. ACM Transactions on Interactive Intelligent Systems (TiiS) 5, 4, Article 19 (December 2015), 19 pages. DOI=http://dx.doi.org/10.1145/2827872  \n",
    "2) Tsvetovat, M. & Kouznetsov, A. (2011). Social network analysis for startups : finding connections on the social web. Sebastopol, CA: O'Reilly Media.  \n",
    "3) [How to use urllib2 in Python](http://www.pythonforbeginners.com/python-on-the-web/how-to-use-urllib2-in-python/)    \n",
    "4) [HOWTO Fetch Internet Resources Using urllib2](https://docs.python.org/2/howto/urllib2.html)  \n",
    "5) [Stackoverflow: Unzipping files in Python](https://stackoverflow.com/questions/3451111/unzipping-files-in-python)  \n",
    "6) [Matplotlib: subplots_demo.py](https://matplotlib.org/examples/pylab_examples/subplots_demo.html)  \n",
    "7) [Stackoverflow: How to sort a dictionary by value?](https://stackoverflow.com/a/613218/8066374)  \n",
    "8) [Node / Edge attribute filtering - Google Groups](https://groups.google.com/forum/#!topic/networkx-discuss/mrwIDdlcA3M)"
   ]
  }
 ],
 "metadata": {
  "kernelspec": {
   "display_name": "Python 2",
   "language": "python",
   "name": "python2"
  },
  "language_info": {
   "codemirror_mode": {
    "name": "ipython",
    "version": 2
   },
   "file_extension": ".py",
   "mimetype": "text/x-python",
   "name": "python",
   "nbconvert_exporter": "python",
   "pygments_lexer": "ipython2",
   "version": "2.7.13"
  }
 },
 "nbformat": 4,
 "nbformat_minor": 2
}
