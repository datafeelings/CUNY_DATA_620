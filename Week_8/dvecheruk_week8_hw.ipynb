{
 "cells": [
  {
   "cell_type": "markdown",
   "metadata": {},
   "source": [
    "## CUNY MSDA Fall 2017 Semester\n",
    "### DATA 620\n",
    "### Week 8 Homework Assigment: High Frequency Words\n",
    "By Dmitriy Vecheruk"
   ]
  },
  {
   "cell_type": "markdown",
   "metadata": {},
   "source": [
    "### Assignment\n",
    "\n",
    "1. Choose a corpus of interest.  \n",
    "2. How many total unique words are in the corpus? (Please feel free to define unique words in any interesting,\n",
    "defensible way).  \n",
    "3. Taking the most common words, how many unique words represent half of the total words in the corpus?  \n",
    "4. Identify the 200 highest frequency words in this corpus.  \n",
    "5. Create a graph that shows the relative frequency of these 200 words.  \n",
    "6. Does the observed relative frequency of these words follow Zipf’s law? Explain.  \n",
    "7. In what ways do you think the frequency of the words in this corpus differ from “all words in all corpora.”  "
   ]
  },
  {
   "cell_type": "markdown",
   "metadata": {},
   "source": [
    "----\n",
    "### Solution\n",
    "\n",
    "*1.Choose a corpus of interest.*  \n",
    "  \n",
    "For this assignment, I will use the famous Reuters news corpus. This corpus is contained in the `nltk` package and can be downloaded using the `nltk.download()` function"
   ]
  },
  {
   "cell_type": "code",
   "execution_count": 109,
   "metadata": {
    "collapsed": false
   },
   "outputs": [],
   "source": [
    "import nltk\n",
    "import string\n",
    "from nltk.corpus import reuters\n",
    "from nltk import FreqDist\n",
    "import matplotlib.pyplot as plt\n",
    "\n",
    "%matplotlib inline"
   ]
  },
  {
   "cell_type": "markdown",
   "metadata": {},
   "source": [
    "*2.How many total unique words are in the corpus? (Please feel free to define unique words in any interesting, defensible way).*  \n",
    "\n",
    "In order to count unique words, the following approach will be applied:  \n",
    "1) Remove all numbers and punctuation as these are not words  \n",
    "2) Filter all unique word types from the corpus  \n",
    "3) Lowercase and stem the word types to avoid counting word forms (e.g. go, goes) as unique words  \n",
    "3) Count the number of remaining unique stemmed tokens  "
   ]
  },
  {
   "cell_type": "code",
   "execution_count": 4,
   "metadata": {
    "collapsed": false
   },
   "outputs": [
    {
     "data": {
      "text/plain": [
       "[u'RIFT',\n",
       " u'Mounting',\n",
       " u'trade',\n",
       " u'friction',\n",
       " u'between',\n",
       " u'the',\n",
       " u'U',\n",
       " u'.',\n",
       " u'S',\n",
       " u'.',\n",
       " u'And',\n",
       " u'Japan',\n",
       " u'has',\n",
       " u'raised',\n",
       " u'fears',\n",
       " u'among',\n",
       " u'many',\n",
       " u'of',\n",
       " u'Asia',\n",
       " u\"'\"]"
      ]
     },
     "execution_count": 4,
     "metadata": {},
     "output_type": "execute_result"
    }
   ],
   "source": [
    "all_words = reuters.words()\n",
    "all_words[10:30]"
   ]
  },
  {
   "cell_type": "code",
   "execution_count": 5,
   "metadata": {
    "collapsed": false
   },
   "outputs": [
    {
     "data": {
      "text/plain": [
       "[u'among',\n",
       " u'many',\n",
       " u'of',\n",
       " u'Asia',\n",
       " u's',\n",
       " u'exporting',\n",
       " u'nations',\n",
       " u'that',\n",
       " u'the',\n",
       " u'row',\n",
       " u'could',\n",
       " u'inflict',\n",
       " u'far',\n",
       " u'reaching',\n",
       " u'economic',\n",
       " u'damage',\n",
       " u'businessmen',\n",
       " u'and',\n",
       " u'officials',\n",
       " u'said']"
      ]
     },
     "execution_count": 5,
     "metadata": {},
     "output_type": "execute_result"
    }
   ],
   "source": [
    "all_words = [item for item in all_words if not any(c.isdigit() for c in item)]\n",
    "all_words = [item for item in all_words if not all(c in string.punctuation for c in item)]\n",
    "all_words = [item for item in all_words if not all(c in string.uppercase for c in item)] # exclude abbreviations\n",
    "all_words[10:30]"
   ]
  },
  {
   "cell_type": "code",
   "execution_count": 17,
   "metadata": {
    "collapsed": true
   },
   "outputs": [],
   "source": [
    "total_words = len(all_words)\n",
    "unique_types = set(all_words)"
   ]
  },
  {
   "cell_type": "code",
   "execution_count": 18,
   "metadata": {
    "collapsed": true
   },
   "outputs": [],
   "source": [
    "len_uq_types = len(unique_types)"
   ]
  },
  {
   "cell_type": "code",
   "execution_count": 31,
   "metadata": {
    "collapsed": false
   },
   "outputs": [
    {
     "data": {
      "text/plain": [
       "[u'travaux',\n",
       " u'suzann',\n",
       " u'demopoli',\n",
       " u'repetit',\n",
       " u'sation',\n",
       " u'sesostri',\n",
       " u'midafternoon',\n",
       " u'friesian',\n",
       " u'authoris',\n",
       " u'reshuffl',\n",
       " u'chanthaburi',\n",
       " u'houtt',\n",
       " u'itaqui',\n",
       " u'lorn',\n",
       " u'diver',\n",
       " u'ranasingh',\n",
       " u'hermann',\n",
       " u'lord',\n",
       " u'shipmetn',\n",
       " u'undersecretari']"
      ]
     },
     "execution_count": 31,
     "metadata": {},
     "output_type": "execute_result"
    }
   ],
   "source": [
    "porter = nltk.PorterStemmer()\n",
    "\n",
    "unique_tokens_stemmed = [porter.stem(item) for item in unique_tokens_stemmed]\n",
    "unique_tokens_stemmed = set(unique_tokens_stemmed)\n",
    "unique_tokens_stemmed = list(unique_tokens_stemmed)\n",
    "unique_tokens_stemmed[10:30]"
   ]
  },
  {
   "cell_type": "code",
   "execution_count": 32,
   "metadata": {
    "collapsed": false
   },
   "outputs": [
    {
     "name": "stdout",
     "output_type": "stream",
     "text": [
      "\n",
      "Total words in corpus: 1212753\n",
      "Unique types: 27792\n",
      "Unique stemmed words: 17023\n",
      "\n",
      "\n"
     ]
    }
   ],
   "source": [
    "len_uq_tokens_st = len(unique_tokens_stemmed)\n",
    "\n",
    "print(\"\"\"\n",
    "Total words in corpus: {}\n",
    "Unique types: {}\n",
    "Unique stemmed words: {}\n",
    "\n",
    "\"\"\".format(total_words,len_uq_types,len_uq_tokens_st))"
   ]
  },
  {
   "cell_type": "markdown",
   "metadata": {},
   "source": [
    "We see that from a total count of **over 1.2 mln. words**, there are only **17 thousand unique words** after the stemming."
   ]
  },
  {
   "cell_type": "markdown",
   "metadata": {},
   "source": [
    "*3.Taking the most common words, how many unique words represent half of the total words in the corpus?*\n",
    "  \n",
    "To answer this question, I will construct the word frequency destribution and use it to make a cumulative frequency calculation starting with the most frequent words."
   ]
  },
  {
   "cell_type": "code",
   "execution_count": 34,
   "metadata": {
    "collapsed": false
   },
   "outputs": [],
   "source": [
    "# lowercase before counting the frequency\n",
    "all_words = [item.lower() for item in all_words ]\n",
    "fdist = FreqDist(all_words) "
   ]
  },
  {
   "cell_type": "code",
   "execution_count": 35,
   "metadata": {
    "collapsed": false
   },
   "outputs": [
    {
     "name": "stdout",
     "output_type": "stream",
     "text": [
      "(u'the', 69220) (u'of', 36029) (u'to', 34143) (u'in', 27957) (u'and', 25271) (u'said', 25233) (u'a', 23492) (u'mln', 18043) (u'vs', 14120) (u'for', 13033) (u'dlrs', 11891) (u'it', 10902) (u's', 9298) (u'pct', 9093) (u'on', 8787) (u'lt', 8695) (u'from', 8009) (u'cts', 7956) (u'is', 7610) (u'that', 7534) (u'its', 7356) (u'year', 6983) (u'by', 6923) (u'at', 6765) (u'be', 6289) (u'with', 6027) (u'will', 5874) (u'was', 5802) (u'billion', 5656) (u'net', 5431) (u'he', 5174) (u'has', 4704) (u'would', 4658) (u'company', 4611) (u'an', 4540) (u'loss', 4537) (u'as', 4485) (u'not', 4273) (u'shr', 3977) (u'which', 3666) (u'but', 3586) (u'this', 3479) (u'or', 3223) (u'last', 3221) (u'are', 3208) (u'bank', 3190) (u'were', 3086) (u'have', 3072) (u'share', 3056) (u'had', 2958)\n"
     ]
    }
   ],
   "source": [
    "for item in fdist.most_common(50): print item,"
   ]
  },
  {
   "cell_type": "markdown",
   "metadata": {},
   "source": [
    "We can see that - as expected - the most frequent words are prepositions, articles, and some terms that are frequently used in business news, such as \"mln\", \"billion\", \"company\"."
   ]
  },
  {
   "cell_type": "code",
   "execution_count": 63,
   "metadata": {
    "collapsed": false
   },
   "outputs": [
    {
     "name": "stdout",
     "output_type": "stream",
     "text": [
      "94 (u'co', 1515) 607221.0 606376.0\n"
     ]
    }
   ],
   "source": [
    "total_cnt = sum(fdist.values())\n",
    "median = round(total_cnt/2)\n",
    "top_100 = fdist.most_common(100)\n",
    "\n",
    "\n",
    "cumul_fr = 0.0\n",
    "counter = 0\n",
    "\n",
    "for item in top_100:\n",
    "    if cumul_fr < median:\n",
    "        cumul_fr = cumul_fr + item[1]\n",
    "        counter += 1\n",
    "    else: \n",
    "        break\n",
    "\n",
    "print counter, item, cumul_fr, median"
   ]
  },
  {
   "cell_type": "markdown",
   "metadata": {},
   "source": [
    "We see that **95 of the most common words** represent 50% of the total word count."
   ]
  },
  {
   "cell_type": "markdown",
   "metadata": {},
   "source": [
    "*4.Identify the 200 highest frequency words in this corpus.  \n",
    "5.Create a graph that shows the relative frequency of these 200 words.  \n",
    "6.Does the observed relative frequency of these words follow Zipf’s law? Explain.  \n",
    "7.In what ways do you think the frequency of the words in this corpus differ from “all words in all corpora.”*"
   ]
  },
  {
   "cell_type": "markdown",
   "metadata": {},
   "source": [
    "We get the top 200 words by frequency and construct an array holding their relative frequencies, as well as their frequencies if they were to follow Zipf's law:  \n",
    "so the frequency of the most frequent word remains the same, the frequency of the second is 1/2 of that of the first one, 1/3 for the third one and so on.\n"
   ]
  },
  {
   "cell_type": "code",
   "execution_count": 150,
   "metadata": {
    "collapsed": false
   },
   "outputs": [],
   "source": [
    "top_200 = fdist.most_common(200)\n",
    "\n",
    "cumul_fr = 0.0\n",
    "counter = 1\n",
    "word_freqs = []\n",
    "top_freq = 1.0*top_200[0][1]/total_cnt # the relative frequency of the top word\n",
    "\n",
    "for item in top_200:\n",
    "    cumul_fr = cumul_fr + item[1]\n",
    "    word_freqs.append([item[0],item[1],\n",
    "                       1.0*item[1]/total_cnt, # relative freq\n",
    "                       1.0*top_freq/counter, # Zipf law theoretical freq\n",
    "                       cumul_fr])\n",
    "    counter +=1"
   ]
  },
  {
   "cell_type": "code",
   "execution_count": 151,
   "metadata": {
    "collapsed": false
   },
   "outputs": [
    {
     "data": {
      "text/plain": [
       "0.05707675017089218"
      ]
     },
     "execution_count": 151,
     "metadata": {},
     "output_type": "execute_result"
    }
   ],
   "source": [
    "top_freq"
   ]
  },
  {
   "cell_type": "code",
   "execution_count": 152,
   "metadata": {
    "collapsed": false
   },
   "outputs": [
    {
     "name": "stdout",
     "output_type": "stream",
     "text": [
      "[u'the', 69220, 0.05707675017089218, 0.05707675017089218, 69220.0] \n",
      "[u'shareholders', 804, 0.0006629544515659825, 0.0002853837508544609, 718477.0]\n"
     ]
    }
   ],
   "source": [
    "print word_freqs[0],'\\n',word_freqs[199]"
   ]
  },
  {
   "cell_type": "code",
   "execution_count": 153,
   "metadata": {
    "collapsed": false
   },
   "outputs": [],
   "source": [
    "word_freqs[199]\n",
    "top_200_words = [item[0] for item in word_freqs]\n",
    "top_200_fr = [item[2] for item in word_freqs]\n",
    "top_200_zipf = [item[3] for item in word_freqs]"
   ]
  },
  {
   "cell_type": "code",
   "execution_count": 173,
   "metadata": {
    "collapsed": false
   },
   "outputs": [
    {
     "data": {
      "image/png": "[encoded data removed]",
      "text/plain": [
       "<matplotlib.figure.Figure at 0x11af41d90>"
      ]
     },
     "metadata": {},
     "output_type": "display_data"
    }
   ],
   "source": [
    "\n",
    "fig, ax = plt.subplots(1,1,figsize=(12, 7))\n",
    "\n",
    "ax.plot(range(0,200),top_200_zipf,'--',linewidth=2,label=\"Zipf Law frequency\")\n",
    "ax.plot(range(0,200),top_200_fr,linewidth=2,label=\"Actual frequency\")\n",
    "ax.set(xlabel='Word rank by decreasing frequency', ylabel='Cumulative frequency',\n",
    "       title='Cumulative frequency distribution of the top 200 words vs. Zipf Law')\n",
    "ax.legend()\n",
    "plt.show()\n"
   ]
  },
  {
   "cell_type": "markdown",
   "metadata": {},
   "source": [
    "The **top 200 most frequent words** are:"
   ]
  },
  {
   "cell_type": "code",
   "execution_count": 169,
   "metadata": {
    "collapsed": false
   },
   "outputs": [
    {
     "name": "stdout",
     "output_type": "stream",
     "text": [
      "the of to in and said a mln vs for dlrs it s pct on lt from cts is that its year by at be with will was billion net he has would company an loss as not shr which but this or last are bank were have share had one oil profit inc about trade they market shares also two new corp stock tonnes revs sales up per been prices april after may march more group quarter than price first government february other rate january japan we three if week exchange offer dollar co agreement could against told production over tax some today no foreign their expected interest total under there rose month all five current international nine record rates ltd dlr end six rise exports increase added oper board stg earlier world avg because shrs between meeting common growth official industry months earnings into made economic spokesman department export officials major banks four cash countries while now december any analysts when japanese sale west agreed pay mths investment operations imports report sources business fell includes president due compared companies wheat united around years should down yen states only central american securities further financial since prior time national shareholders\n"
     ]
    }
   ],
   "source": [
    "for item in top_200_words: print item,"
   ]
  },
  {
   "cell_type": "markdown",
   "metadata": {},
   "source": [
    "The observed relative frequency of these words generally follows Zipf's law. However, some words within the top 50 by frequency appear more often than would be expected in a theoretical Zipf law distribution. These words are: "
   ]
  },
  {
   "cell_type": "code",
   "execution_count": 174,
   "metadata": {
    "collapsed": false
   },
   "outputs": [
    {
     "name": "stdout",
     "output_type": "stream",
     "text": [
      "the of to in and said a mln vs for dlrs it s pct on lt from cts is that its year by at be with will was billion net he has would company an loss as not shr which but this or last are bank were have share\n"
     ]
    }
   ],
   "source": [
    "for item in top_200_words[:49]: print item,"
   ]
  },
  {
   "cell_type": "markdown",
   "metadata": {},
   "source": [
    "It is clear that these terms are bound to be more frequent in the Reuters news corpus, as in the general corpus of the language, as they describe business terms that tend to appear in news coverage."
   ]
  },
  {
   "cell_type": "markdown",
   "metadata": {},
   "source": [
    "### Reference\n",
    "\n",
    "1. Bird S., Klein E., Loper E. (2009). Natural Language Processing with Python: Analyzing Text with the Natural Language Toolkit  \n",
    "2. [Stackoverflow: Remove strings from a list that contains numbers in python](https://stackoverflow.com/a/16084700/8066374)\n",
    "3. [Matplotlib: Categorical Variables](https://matplotlib.org/devdocs/gallery/lines_bars_and_markers/categorical_variables.html)"
   ]
  },
  {
   "cell_type": "code",
   "execution_count": null,
   "metadata": {
    "collapsed": true
   },
   "outputs": [],
   "source": []
  }
 ],
 "metadata": {
  "kernelspec": {
   "display_name": "Python 2",
   "language": "python",
   "name": "python2"
  }
 },
 "nbformat": 4,
 "nbformat_minor": 2
}
